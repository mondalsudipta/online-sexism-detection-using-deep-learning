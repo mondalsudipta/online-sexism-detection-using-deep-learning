{
 "cells": [
  {
   "cell_type": "markdown",
   "id": "9eb2b8e7",
   "metadata": {},
   "source": [
    "# Online Sexism Detection"
   ]
  },
  {
   "cell_type": "markdown",
   "id": "b6ace33f",
   "metadata": {},
   "source": [
    "#### I have used Word2vec embedding, TF-IDF Vectorizer and a Neural Network for this project"
   ]
  },
  {
   "cell_type": "code",
   "execution_count": 1,
   "id": "ea076b6c",
   "metadata": {
    "scrolled": true
   },
   "outputs": [
    {
     "name": "stderr",
     "output_type": "stream",
     "text": [
      "[nltk_data] Downloading package stopwords to\n",
      "[nltk_data]     C:\\Users\\User\\AppData\\Roaming\\nltk_data...\n",
      "[nltk_data]   Package stopwords is already up-to-date!\n",
      "[nltk_data] Downloading package wordnet to\n",
      "[nltk_data]     C:\\Users\\User\\AppData\\Roaming\\nltk_data...\n",
      "[nltk_data]   Package wordnet is already up-to-date!\n",
      "[nltk_data] Downloading package omw-1.4 to\n",
      "[nltk_data]     C:\\Users\\User\\AppData\\Roaming\\nltk_data...\n",
      "[nltk_data]   Package omw-1.4 is already up-to-date!\n",
      "[nltk_data] Downloading package punkt to\n",
      "[nltk_data]     C:\\Users\\User\\AppData\\Roaming\\nltk_data...\n",
      "[nltk_data]   Package punkt is already up-to-date!\n"
     ]
    }
   ],
   "source": [
    "#importing necessary dependencies\n",
    "\n",
    "import numpy as np \n",
    "import pandas as pd \n",
    "import matplotlib.pyplot as plt\n",
    "import seaborn as sns\n",
    "\n",
    "#label encoder\n",
    "from sklearn.preprocessing import LabelEncoder\n",
    "from sklearn.preprocessing import scale\n",
    "\n",
    "\n",
    "#NLP tools\n",
    "import re\n",
    "import nltk\n",
    "nltk.download('stopwords')\n",
    "nltk.download('wordnet')\n",
    "nltk.download('omw-1.4')\n",
    "nltk.download('punkt')\n",
    "from nltk.corpus import stopwords\n",
    "from nltk import WordNetLemmatizer\n",
    "from nltk.tokenize import word_tokenize\n",
    "from sklearn.feature_extraction.text import TfidfVectorizer\n",
    "import multiprocessing\n",
    "from time import time\n",
    "from gensim.models import Word2Vec\n",
    "\n",
    "\n",
    "\n",
    "#train split and fit models\n",
    "from sklearn.model_selection import train_test_split, cross_val_score, StratifiedKFold\n",
    "from sklearn.metrics import accuracy_score, classification_report, f1_score\n",
    "\n",
    "#neural network\n",
    "from keras.models import Sequential\n",
    "from keras.layers import Dense, Dropout\n",
    "from keras.optimizers import Adam\n",
    "from tensorflow.keras.layers import LeakyReLU\n",
    "\n",
    "\n",
    "import warnings\n",
    "warnings.filterwarnings(\"ignore\")"
   ]
  },
  {
   "cell_type": "code",
   "execution_count": 2,
   "id": "53cf93c5",
   "metadata": {},
   "outputs": [],
   "source": [
    "df = pd.read_csv(\"train_all_tasks.csv\")"
   ]
  },
  {
   "cell_type": "code",
   "execution_count": 3,
   "id": "efb78191",
   "metadata": {},
   "outputs": [
    {
     "data": {
      "text/html": [
       "<div>\n",
       "<style scoped>\n",
       "    .dataframe tbody tr th:only-of-type {\n",
       "        vertical-align: middle;\n",
       "    }\n",
       "\n",
       "    .dataframe tbody tr th {\n",
       "        vertical-align: top;\n",
       "    }\n",
       "\n",
       "    .dataframe thead th {\n",
       "        text-align: right;\n",
       "    }\n",
       "</style>\n",
       "<table border=\"1\" class=\"dataframe\">\n",
       "  <thead>\n",
       "    <tr style=\"text-align: right;\">\n",
       "      <th></th>\n",
       "      <th>rewire_id</th>\n",
       "      <th>text</th>\n",
       "      <th>label_sexist</th>\n",
       "      <th>label_category</th>\n",
       "      <th>label_vector</th>\n",
       "    </tr>\n",
       "  </thead>\n",
       "  <tbody>\n",
       "    <tr>\n",
       "      <th>0</th>\n",
       "      <td>sexism2022_english-7358</td>\n",
       "      <td>Damn, this writing was pretty chaotic</td>\n",
       "      <td>not sexist</td>\n",
       "      <td>none</td>\n",
       "      <td>none</td>\n",
       "    </tr>\n",
       "    <tr>\n",
       "      <th>1</th>\n",
       "      <td>sexism2022_english-2367</td>\n",
       "      <td>Yeah, and apparently a bunch of misogynistic v...</td>\n",
       "      <td>not sexist</td>\n",
       "      <td>none</td>\n",
       "      <td>none</td>\n",
       "    </tr>\n",
       "    <tr>\n",
       "      <th>2</th>\n",
       "      <td>sexism2022_english-3073</td>\n",
       "      <td>How the FUCK is this woman still an MP!!!???</td>\n",
       "      <td>not sexist</td>\n",
       "      <td>none</td>\n",
       "      <td>none</td>\n",
       "    </tr>\n",
       "    <tr>\n",
       "      <th>3</th>\n",
       "      <td>sexism2022_english-14895</td>\n",
       "      <td>Understand. Know you're right. At same time I ...</td>\n",
       "      <td>not sexist</td>\n",
       "      <td>none</td>\n",
       "      <td>none</td>\n",
       "    </tr>\n",
       "    <tr>\n",
       "      <th>4</th>\n",
       "      <td>sexism2022_english-4118</td>\n",
       "      <td>Surprized they didn't stop and rape some women</td>\n",
       "      <td>not sexist</td>\n",
       "      <td>none</td>\n",
       "      <td>none</td>\n",
       "    </tr>\n",
       "  </tbody>\n",
       "</table>\n",
       "</div>"
      ],
      "text/plain": [
       "                  rewire_id  \\\n",
       "0   sexism2022_english-7358   \n",
       "1   sexism2022_english-2367   \n",
       "2   sexism2022_english-3073   \n",
       "3  sexism2022_english-14895   \n",
       "4   sexism2022_english-4118   \n",
       "\n",
       "                                                text label_sexist  \\\n",
       "0              Damn, this writing was pretty chaotic   not sexist   \n",
       "1  Yeah, and apparently a bunch of misogynistic v...   not sexist   \n",
       "2       How the FUCK is this woman still an MP!!!???   not sexist   \n",
       "3  Understand. Know you're right. At same time I ...   not sexist   \n",
       "4     Surprized they didn't stop and rape some women   not sexist   \n",
       "\n",
       "  label_category label_vector  \n",
       "0           none         none  \n",
       "1           none         none  \n",
       "2           none         none  \n",
       "3           none         none  \n",
       "4           none         none  "
      ]
     },
     "execution_count": 3,
     "metadata": {},
     "output_type": "execute_result"
    }
   ],
   "source": [
    "df.head()"
   ]
  },
  {
   "cell_type": "code",
   "execution_count": 4,
   "id": "ddaa2c6c",
   "metadata": {},
   "outputs": [
    {
     "data": {
      "text/plain": [
       "(14000, 5)"
      ]
     },
     "execution_count": 4,
     "metadata": {},
     "output_type": "execute_result"
    }
   ],
   "source": [
    "df.shape"
   ]
  },
  {
   "cell_type": "code",
   "execution_count": 5,
   "id": "07d3a663",
   "metadata": {},
   "outputs": [
    {
     "data": {
      "text/html": [
       "<div>\n",
       "<style scoped>\n",
       "    .dataframe tbody tr th:only-of-type {\n",
       "        vertical-align: middle;\n",
       "    }\n",
       "\n",
       "    .dataframe tbody tr th {\n",
       "        vertical-align: top;\n",
       "    }\n",
       "\n",
       "    .dataframe thead th {\n",
       "        text-align: right;\n",
       "    }\n",
       "</style>\n",
       "<table border=\"1\" class=\"dataframe\">\n",
       "  <thead>\n",
       "    <tr style=\"text-align: right;\">\n",
       "      <th></th>\n",
       "      <th>text</th>\n",
       "      <th>label_sexist</th>\n",
       "      <th>label_category</th>\n",
       "      <th>label_vector</th>\n",
       "    </tr>\n",
       "  </thead>\n",
       "  <tbody>\n",
       "    <tr>\n",
       "      <th>0</th>\n",
       "      <td>Damn, this writing was pretty chaotic</td>\n",
       "      <td>not sexist</td>\n",
       "      <td>none</td>\n",
       "      <td>none</td>\n",
       "    </tr>\n",
       "    <tr>\n",
       "      <th>1</th>\n",
       "      <td>Yeah, and apparently a bunch of misogynistic v...</td>\n",
       "      <td>not sexist</td>\n",
       "      <td>none</td>\n",
       "      <td>none</td>\n",
       "    </tr>\n",
       "    <tr>\n",
       "      <th>2</th>\n",
       "      <td>How the FUCK is this woman still an MP!!!???</td>\n",
       "      <td>not sexist</td>\n",
       "      <td>none</td>\n",
       "      <td>none</td>\n",
       "    </tr>\n",
       "    <tr>\n",
       "      <th>3</th>\n",
       "      <td>Understand. Know you're right. At same time I ...</td>\n",
       "      <td>not sexist</td>\n",
       "      <td>none</td>\n",
       "      <td>none</td>\n",
       "    </tr>\n",
       "    <tr>\n",
       "      <th>4</th>\n",
       "      <td>Surprized they didn't stop and rape some women</td>\n",
       "      <td>not sexist</td>\n",
       "      <td>none</td>\n",
       "      <td>none</td>\n",
       "    </tr>\n",
       "  </tbody>\n",
       "</table>\n",
       "</div>"
      ],
      "text/plain": [
       "                                                text label_sexist  \\\n",
       "0              Damn, this writing was pretty chaotic   not sexist   \n",
       "1  Yeah, and apparently a bunch of misogynistic v...   not sexist   \n",
       "2       How the FUCK is this woman still an MP!!!???   not sexist   \n",
       "3  Understand. Know you're right. At same time I ...   not sexist   \n",
       "4     Surprized they didn't stop and rape some women   not sexist   \n",
       "\n",
       "  label_category label_vector  \n",
       "0           none         none  \n",
       "1           none         none  \n",
       "2           none         none  \n",
       "3           none         none  \n",
       "4           none         none  "
      ]
     },
     "execution_count": 5,
     "metadata": {},
     "output_type": "execute_result"
    }
   ],
   "source": [
    "df.drop('rewire_id', axis=1, inplace=True) \n",
    "df.head()"
   ]
  },
  {
   "cell_type": "markdown",
   "id": "82a8b074",
   "metadata": {},
   "source": [
    "#### DATA CLEANING FOR TASK A and B"
   ]
  },
  {
   "cell_type": "code",
   "execution_count": 6,
   "id": "70abb84d",
   "metadata": {},
   "outputs": [],
   "source": [
    "def clean_text(text):\n",
    "    # Remove any non-alphanumeric characters except whitespace\n",
    "    text = re.sub(r'[^a-zA-Z\\s]', '', text)\n",
    "    # Convert text to lowercase\n",
    "    text = text.lower()\n",
    "    # Remove extra whitespaces\n",
    "    text = re.sub(r'\\s+', ' ', text).strip()\n",
    "    return text"
   ]
  },
  {
   "cell_type": "code",
   "execution_count": 7,
   "id": "9867faac",
   "metadata": {},
   "outputs": [],
   "source": [
    "# Define stop words\n",
    "stop_words = set(stopwords.words('english'))\n",
    "\n",
    "# Initialize WordNet Lemmatizer\n",
    "lemmatizer = WordNetLemmatizer()\n",
    "\n",
    "def remove_stopwords(text):\n",
    "    \"\"\"\n",
    "    Function to remove stop words from text.\n",
    "    \n",
    "    Parameters:\n",
    "        text (str): Input text.\n",
    "        \n",
    "    Returns:\n",
    "        str: Text with stop words removed.\n",
    "    \"\"\"\n",
    "    # Tokenize the text\n",
    "    words = text.split()\n",
    "    # Remove stop words\n",
    "    filtered_words = [word for word in words if word not in stop_words]\n",
    "    # Join the filtered words back into a string\n",
    "    filtered_text = ' '.join(filtered_words)\n",
    "    return filtered_text\n",
    "\n",
    "def lemmatize_text(text):\n",
    "    \"\"\"\n",
    "    Function to lemmatize words in text.\n",
    "    \n",
    "    Parameters:\n",
    "        text (str): Input text.\n",
    "        \n",
    "    Returns:\n",
    "        str: Text with lemmatized words.\n",
    "    \"\"\"\n",
    "    # Tokenize the text\n",
    "    words = text.split()\n",
    "    # Lemmatize each word\n",
    "    lemmatized_words = [lemmatizer.lemmatize(word) for word in words]\n",
    "    # Join the lemmatized words back into a string\n",
    "    lemmatized_text = ' '.join(lemmatized_words)\n",
    "    return lemmatized_text"
   ]
  },
  {
   "cell_type": "code",
   "execution_count": 8,
   "id": "c0310f51",
   "metadata": {},
   "outputs": [],
   "source": [
    "# Apply cleaning function\n",
    "df['text'] = df['text'].apply(clean_text)\n",
    "\n",
    "# Remove stop words\n",
    "df['text'] = df['text'].apply(remove_stopwords)\n",
    "\n",
    "# Lemmatize words\n",
    "df['text'] = df['text'].apply(lemmatize_text)\n"
   ]
  },
  {
   "cell_type": "code",
   "execution_count": 9,
   "id": "11b679d1",
   "metadata": {},
   "outputs": [
    {
     "data": {
      "text/html": [
       "<div>\n",
       "<style scoped>\n",
       "    .dataframe tbody tr th:only-of-type {\n",
       "        vertical-align: middle;\n",
       "    }\n",
       "\n",
       "    .dataframe tbody tr th {\n",
       "        vertical-align: top;\n",
       "    }\n",
       "\n",
       "    .dataframe thead th {\n",
       "        text-align: right;\n",
       "    }\n",
       "</style>\n",
       "<table border=\"1\" class=\"dataframe\">\n",
       "  <thead>\n",
       "    <tr style=\"text-align: right;\">\n",
       "      <th></th>\n",
       "      <th>text</th>\n",
       "      <th>label_sexist</th>\n",
       "      <th>label_category</th>\n",
       "      <th>label_vector</th>\n",
       "    </tr>\n",
       "  </thead>\n",
       "  <tbody>\n",
       "    <tr>\n",
       "      <th>0</th>\n",
       "      <td>damn writing pretty chaotic</td>\n",
       "      <td>not sexist</td>\n",
       "      <td>none</td>\n",
       "      <td>none</td>\n",
       "    </tr>\n",
       "    <tr>\n",
       "      <th>1</th>\n",
       "      <td>yeah apparently bunch misogynistic virgin one ...</td>\n",
       "      <td>not sexist</td>\n",
       "      <td>none</td>\n",
       "      <td>none</td>\n",
       "    </tr>\n",
       "    <tr>\n",
       "      <th>2</th>\n",
       "      <td>fuck woman still mp</td>\n",
       "      <td>not sexist</td>\n",
       "      <td>none</td>\n",
       "      <td>none</td>\n",
       "    </tr>\n",
       "    <tr>\n",
       "      <th>3</th>\n",
       "      <td>understand know youre right time know isnt eno...</td>\n",
       "      <td>not sexist</td>\n",
       "      <td>none</td>\n",
       "      <td>none</td>\n",
       "    </tr>\n",
       "    <tr>\n",
       "      <th>4</th>\n",
       "      <td>surprized didnt stop rape woman</td>\n",
       "      <td>not sexist</td>\n",
       "      <td>none</td>\n",
       "      <td>none</td>\n",
       "    </tr>\n",
       "  </tbody>\n",
       "</table>\n",
       "</div>"
      ],
      "text/plain": [
       "                                                text label_sexist  \\\n",
       "0                        damn writing pretty chaotic   not sexist   \n",
       "1  yeah apparently bunch misogynistic virgin one ...   not sexist   \n",
       "2                                fuck woman still mp   not sexist   \n",
       "3  understand know youre right time know isnt eno...   not sexist   \n",
       "4                    surprized didnt stop rape woman   not sexist   \n",
       "\n",
       "  label_category label_vector  \n",
       "0           none         none  \n",
       "1           none         none  \n",
       "2           none         none  \n",
       "3           none         none  \n",
       "4           none         none  "
      ]
     },
     "execution_count": 9,
     "metadata": {},
     "output_type": "execute_result"
    }
   ],
   "source": [
    "df.head()"
   ]
  },
  {
   "cell_type": "markdown",
   "id": "36e3ee7d",
   "metadata": {},
   "source": [
    "## TASK A SOLUTION"
   ]
  },
  {
   "cell_type": "code",
   "execution_count": 10,
   "id": "0cb08647",
   "metadata": {},
   "outputs": [
    {
     "data": {
      "text/html": [
       "<div>\n",
       "<style scoped>\n",
       "    .dataframe tbody tr th:only-of-type {\n",
       "        vertical-align: middle;\n",
       "    }\n",
       "\n",
       "    .dataframe tbody tr th {\n",
       "        vertical-align: top;\n",
       "    }\n",
       "\n",
       "    .dataframe thead th {\n",
       "        text-align: right;\n",
       "    }\n",
       "</style>\n",
       "<table border=\"1\" class=\"dataframe\">\n",
       "  <thead>\n",
       "    <tr style=\"text-align: right;\">\n",
       "      <th></th>\n",
       "      <th>text</th>\n",
       "      <th>label_sexist</th>\n",
       "    </tr>\n",
       "  </thead>\n",
       "  <tbody>\n",
       "    <tr>\n",
       "      <th>0</th>\n",
       "      <td>damn writing pretty chaotic</td>\n",
       "      <td>not sexist</td>\n",
       "    </tr>\n",
       "    <tr>\n",
       "      <th>1</th>\n",
       "      <td>yeah apparently bunch misogynistic virgin one ...</td>\n",
       "      <td>not sexist</td>\n",
       "    </tr>\n",
       "    <tr>\n",
       "      <th>2</th>\n",
       "      <td>fuck woman still mp</td>\n",
       "      <td>not sexist</td>\n",
       "    </tr>\n",
       "    <tr>\n",
       "      <th>3</th>\n",
       "      <td>understand know youre right time know isnt eno...</td>\n",
       "      <td>not sexist</td>\n",
       "    </tr>\n",
       "    <tr>\n",
       "      <th>4</th>\n",
       "      <td>surprized didnt stop rape woman</td>\n",
       "      <td>not sexist</td>\n",
       "    </tr>\n",
       "  </tbody>\n",
       "</table>\n",
       "</div>"
      ],
      "text/plain": [
       "                                                text label_sexist\n",
       "0                        damn writing pretty chaotic   not sexist\n",
       "1  yeah apparently bunch misogynistic virgin one ...   not sexist\n",
       "2                                fuck woman still mp   not sexist\n",
       "3  understand know youre right time know isnt eno...   not sexist\n",
       "4                    surprized didnt stop rape woman   not sexist"
      ]
     },
     "execution_count": 10,
     "metadata": {},
     "output_type": "execute_result"
    }
   ],
   "source": [
    "dfA = df[['text', 'label_sexist']]\n",
    "dfA.head()"
   ]
  },
  {
   "cell_type": "markdown",
   "id": "02798b17",
   "metadata": {},
   "source": [
    "#### LABEL ENCODER"
   ]
  },
  {
   "cell_type": "code",
   "execution_count": 11,
   "id": "650578d7",
   "metadata": {},
   "outputs": [
    {
     "data": {
      "text/html": [
       "<div>\n",
       "<style scoped>\n",
       "    .dataframe tbody tr th:only-of-type {\n",
       "        vertical-align: middle;\n",
       "    }\n",
       "\n",
       "    .dataframe tbody tr th {\n",
       "        vertical-align: top;\n",
       "    }\n",
       "\n",
       "    .dataframe thead th {\n",
       "        text-align: right;\n",
       "    }\n",
       "</style>\n",
       "<table border=\"1\" class=\"dataframe\">\n",
       "  <thead>\n",
       "    <tr style=\"text-align: right;\">\n",
       "      <th></th>\n",
       "      <th>text</th>\n",
       "      <th>label_sexist</th>\n",
       "      <th>encoded_labels</th>\n",
       "    </tr>\n",
       "  </thead>\n",
       "  <tbody>\n",
       "    <tr>\n",
       "      <th>0</th>\n",
       "      <td>damn writing pretty chaotic</td>\n",
       "      <td>not sexist</td>\n",
       "      <td>0</td>\n",
       "    </tr>\n",
       "    <tr>\n",
       "      <th>1</th>\n",
       "      <td>yeah apparently bunch misogynistic virgin one ...</td>\n",
       "      <td>not sexist</td>\n",
       "      <td>0</td>\n",
       "    </tr>\n",
       "    <tr>\n",
       "      <th>2</th>\n",
       "      <td>fuck woman still mp</td>\n",
       "      <td>not sexist</td>\n",
       "      <td>0</td>\n",
       "    </tr>\n",
       "    <tr>\n",
       "      <th>3</th>\n",
       "      <td>understand know youre right time know isnt eno...</td>\n",
       "      <td>not sexist</td>\n",
       "      <td>0</td>\n",
       "    </tr>\n",
       "    <tr>\n",
       "      <th>4</th>\n",
       "      <td>surprized didnt stop rape woman</td>\n",
       "      <td>not sexist</td>\n",
       "      <td>0</td>\n",
       "    </tr>\n",
       "  </tbody>\n",
       "</table>\n",
       "</div>"
      ],
      "text/plain": [
       "                                                text label_sexist  \\\n",
       "0                        damn writing pretty chaotic   not sexist   \n",
       "1  yeah apparently bunch misogynistic virgin one ...   not sexist   \n",
       "2                                fuck woman still mp   not sexist   \n",
       "3  understand know youre right time know isnt eno...   not sexist   \n",
       "4                    surprized didnt stop rape woman   not sexist   \n",
       "\n",
       "   encoded_labels  \n",
       "0               0  \n",
       "1               0  \n",
       "2               0  \n",
       "3               0  \n",
       "4               0  "
      ]
     },
     "execution_count": 11,
     "metadata": {},
     "output_type": "execute_result"
    }
   ],
   "source": [
    "# Initialize LabelEncoder\n",
    "label_encoder = LabelEncoder()\n",
    "\n",
    "# Fit and transform the class labels\n",
    "dfA['encoded_labels'] = label_encoder.fit_transform(dfA['label_sexist'])\n",
    "dfA.head()"
   ]
  },
  {
   "cell_type": "code",
   "execution_count": 12,
   "id": "e15bbf6d",
   "metadata": {},
   "outputs": [
    {
     "data": {
      "text/html": [
       "<div>\n",
       "<style scoped>\n",
       "    .dataframe tbody tr th:only-of-type {\n",
       "        vertical-align: middle;\n",
       "    }\n",
       "\n",
       "    .dataframe tbody tr th {\n",
       "        vertical-align: top;\n",
       "    }\n",
       "\n",
       "    .dataframe thead th {\n",
       "        text-align: right;\n",
       "    }\n",
       "</style>\n",
       "<table border=\"1\" class=\"dataframe\">\n",
       "  <thead>\n",
       "    <tr style=\"text-align: right;\">\n",
       "      <th></th>\n",
       "      <th>text</th>\n",
       "      <th>encoded_labels</th>\n",
       "    </tr>\n",
       "  </thead>\n",
       "  <tbody>\n",
       "    <tr>\n",
       "      <th>0</th>\n",
       "      <td>damn writing pretty chaotic</td>\n",
       "      <td>0</td>\n",
       "    </tr>\n",
       "    <tr>\n",
       "      <th>1</th>\n",
       "      <td>yeah apparently bunch misogynistic virgin one ...</td>\n",
       "      <td>0</td>\n",
       "    </tr>\n",
       "    <tr>\n",
       "      <th>2</th>\n",
       "      <td>fuck woman still mp</td>\n",
       "      <td>0</td>\n",
       "    </tr>\n",
       "    <tr>\n",
       "      <th>3</th>\n",
       "      <td>understand know youre right time know isnt eno...</td>\n",
       "      <td>0</td>\n",
       "    </tr>\n",
       "    <tr>\n",
       "      <th>4</th>\n",
       "      <td>surprized didnt stop rape woman</td>\n",
       "      <td>0</td>\n",
       "    </tr>\n",
       "  </tbody>\n",
       "</table>\n",
       "</div>"
      ],
      "text/plain": [
       "                                                text  encoded_labels\n",
       "0                        damn writing pretty chaotic               0\n",
       "1  yeah apparently bunch misogynistic virgin one ...               0\n",
       "2                                fuck woman still mp               0\n",
       "3  understand know youre right time know isnt eno...               0\n",
       "4                    surprized didnt stop rape woman               0"
      ]
     },
     "execution_count": 12,
     "metadata": {},
     "output_type": "execute_result"
    }
   ],
   "source": [
    "dfA.drop('label_sexist', axis=1, inplace=True) \n",
    "dfA.head()"
   ]
  },
  {
   "cell_type": "code",
   "execution_count": 13,
   "id": "9876db29",
   "metadata": {},
   "outputs": [
    {
     "data": {
      "text/plain": [
       "pandas.core.series.Series"
      ]
     },
     "execution_count": 13,
     "metadata": {},
     "output_type": "execute_result"
    }
   ],
   "source": [
    "type(dfA['encoded_labels'])"
   ]
  },
  {
   "cell_type": "code",
   "execution_count": 14,
   "id": "55b3e70a",
   "metadata": {},
   "outputs": [
    {
     "data": {
      "text/plain": [
       "0    10602\n",
       "1     3398\n",
       "Name: encoded_labels, dtype: int64"
      ]
     },
     "execution_count": 14,
     "metadata": {},
     "output_type": "execute_result"
    }
   ],
   "source": [
    "dfA['encoded_labels'].value_counts()"
   ]
  },
  {
   "cell_type": "code",
   "execution_count": 15,
   "id": "1a91df36",
   "metadata": {},
   "outputs": [
    {
     "data": {
      "text/plain": [
       "numpy.ndarray"
      ]
     },
     "execution_count": 15,
     "metadata": {},
     "output_type": "execute_result"
    }
   ],
   "source": [
    "type(dfA['encoded_labels'].values)"
   ]
  },
  {
   "cell_type": "code",
   "execution_count": 16,
   "id": "55513297",
   "metadata": {},
   "outputs": [
    {
     "data": {
      "text/html": [
       "<div>\n",
       "<style scoped>\n",
       "    .dataframe tbody tr th:only-of-type {\n",
       "        vertical-align: middle;\n",
       "    }\n",
       "\n",
       "    .dataframe tbody tr th {\n",
       "        vertical-align: top;\n",
       "    }\n",
       "\n",
       "    .dataframe thead th {\n",
       "        text-align: right;\n",
       "    }\n",
       "</style>\n",
       "<table border=\"1\" class=\"dataframe\">\n",
       "  <thead>\n",
       "    <tr style=\"text-align: right;\">\n",
       "      <th></th>\n",
       "      <th>text</th>\n",
       "      <th>encoded_labels</th>\n",
       "      <th>tokenized_text</th>\n",
       "    </tr>\n",
       "  </thead>\n",
       "  <tbody>\n",
       "    <tr>\n",
       "      <th>0</th>\n",
       "      <td>damn writing pretty chaotic</td>\n",
       "      <td>0</td>\n",
       "      <td>[damn, writing, pretty, chaotic]</td>\n",
       "    </tr>\n",
       "    <tr>\n",
       "      <th>1</th>\n",
       "      <td>yeah apparently bunch misogynistic virgin one ...</td>\n",
       "      <td>0</td>\n",
       "      <td>[yeah, apparently, bunch, misogynistic, virgin...</td>\n",
       "    </tr>\n",
       "    <tr>\n",
       "      <th>2</th>\n",
       "      <td>fuck woman still mp</td>\n",
       "      <td>0</td>\n",
       "      <td>[fuck, woman, still, mp]</td>\n",
       "    </tr>\n",
       "    <tr>\n",
       "      <th>3</th>\n",
       "      <td>understand know youre right time know isnt eno...</td>\n",
       "      <td>0</td>\n",
       "      <td>[understand, know, youre, right, time, know, i...</td>\n",
       "    </tr>\n",
       "    <tr>\n",
       "      <th>4</th>\n",
       "      <td>surprized didnt stop rape woman</td>\n",
       "      <td>0</td>\n",
       "      <td>[surprized, didnt, stop, rape, woman]</td>\n",
       "    </tr>\n",
       "  </tbody>\n",
       "</table>\n",
       "</div>"
      ],
      "text/plain": [
       "                                                text  encoded_labels  \\\n",
       "0                        damn writing pretty chaotic               0   \n",
       "1  yeah apparently bunch misogynistic virgin one ...               0   \n",
       "2                                fuck woman still mp               0   \n",
       "3  understand know youre right time know isnt eno...               0   \n",
       "4                    surprized didnt stop rape woman               0   \n",
       "\n",
       "                                      tokenized_text  \n",
       "0                   [damn, writing, pretty, chaotic]  \n",
       "1  [yeah, apparently, bunch, misogynistic, virgin...  \n",
       "2                           [fuck, woman, still, mp]  \n",
       "3  [understand, know, youre, right, time, know, i...  \n",
       "4              [surprized, didnt, stop, rape, woman]  "
      ]
     },
     "execution_count": 16,
     "metadata": {},
     "output_type": "execute_result"
    }
   ],
   "source": [
    "# Tokenize the 'text' column\n",
    "dfA['tokenized_text'] = dfA['text'].apply(word_tokenize)\n",
    "dfA.head()"
   ]
  },
  {
   "cell_type": "code",
   "execution_count": 17,
   "id": "1663ccc4",
   "metadata": {},
   "outputs": [
    {
     "data": {
      "text/plain": [
       "(14000, 3)"
      ]
     },
     "execution_count": 17,
     "metadata": {},
     "output_type": "execute_result"
    }
   ],
   "source": [
    "dfA.shape"
   ]
  },
  {
   "cell_type": "markdown",
   "id": "8874b99e",
   "metadata": {},
   "source": [
    "#### WORD2VEC"
   ]
  },
  {
   "cell_type": "code",
   "execution_count": 18,
   "id": "9f83a54f",
   "metadata": {},
   "outputs": [],
   "source": [
    "# import gensim\n",
    "# w2v_model = gensim.models.KeyedVectors.load_word2vec_format('google_news/GoogleNews-vectors-negative300.bin', \n",
    "#                                                             binary=True)"
   ]
  },
  {
   "cell_type": "code",
   "execution_count": 19,
   "id": "f32f09bf",
   "metadata": {},
   "outputs": [
    {
     "name": "stdout",
     "output_type": "stream",
     "text": [
      "Time to build vocab: 0.0 mins\n",
      "Time to train the model: 13.2 mins\n"
     ]
    }
   ],
   "source": [
    "cores = multiprocessing.cpu_count() \n",
    "w2v_model = Word2Vec(min_count=20,\n",
    "                     window=2,\n",
    "                     vector_size=400,\n",
    "                     sample=6e-5, \n",
    "                     alpha=0.03, \n",
    "                     min_alpha=0.0007, \n",
    "                     negative=20,\n",
    "                     workers=cores-1)\n",
    "\n",
    "#BUILD_VOCAB()\n",
    "t = time()\n",
    "w2v_model.build_vocab(dfA[\"tokenized_text\"], progress_per=1000)\n",
    "print('Time to build vocab: {} mins'.format(round((time() - t) / 60, 2)))\n",
    "\n",
    "#TRAIN()\n",
    "w2v_model.train(dfA[\"tokenized_text\"], total_examples=w2v_model.corpus_count, \n",
    "                epochs=10000, report_delay=1)\n",
    "print('Time to train the model: {} mins'.format(round((time() - t) / 60, 2)))\n"
   ]
  },
  {
   "cell_type": "markdown",
   "id": "53073777",
   "metadata": {},
   "source": [
    "#### DATA SPLIT"
   ]
  },
  {
   "cell_type": "code",
   "execution_count": 20,
   "id": "5004c1a3",
   "metadata": {},
   "outputs": [],
   "source": [
    "#First defining the X (input), and the y (output)\n",
    "y = dfA['encoded_labels'].values\n",
    "X = np.array(dfA[\"tokenized_text\"])\n",
    "\n",
    "#And here is the train_test_split\n",
    "X_train, X_test, y_train, y_test = train_test_split(X, y, test_size = 0.20, random_state = 42)"
   ]
  },
  {
   "cell_type": "code",
   "execution_count": 21,
   "id": "3a531a6f",
   "metadata": {},
   "outputs": [
    {
     "data": {
      "text/plain": [
       "((11200,), (2800,), (11200,), (2800,))"
      ]
     },
     "execution_count": 21,
     "metadata": {},
     "output_type": "execute_result"
    }
   ],
   "source": [
    "X_train.shape, X_test.shape, y_train.shape, y_test.shape"
   ]
  },
  {
   "cell_type": "markdown",
   "id": "5bbc0a6c",
   "metadata": {},
   "source": [
    "#### VECTORIZATION USING TFIDF"
   ]
  },
  {
   "cell_type": "code",
   "execution_count": 22,
   "id": "41cdb87e",
   "metadata": {},
   "outputs": [
    {
     "name": "stdout",
     "output_type": "stream",
     "text": [
      "vocab size : 2065\n"
     ]
    }
   ],
   "source": [
    "vectorizer = TfidfVectorizer(analyzer=lambda x: x, min_df=10)\n",
    "matrix = vectorizer.fit_transform([x for x in X_train])\n",
    "tfidf = dict(zip(vectorizer.get_feature_names(), vectorizer.idf_))\n",
    "print ('vocab size :', len(tfidf))"
   ]
  },
  {
   "cell_type": "code",
   "execution_count": 23,
   "id": "09e1c42b",
   "metadata": {},
   "outputs": [],
   "source": [
    "def buildWordVector(tokens, size):\n",
    "    vec = np.zeros(size).reshape((1, size))\n",
    "    count = 0.\n",
    "    for word in tokens:\n",
    "        try:\n",
    "            vec += w2v_model.wv[word].reshape((1, size)) * tfidf[word]\n",
    "            count += 1.\n",
    "        except KeyError: # handling the case where the token is not\n",
    "                         # in the corpus. useful for testing.\n",
    "            continue\n",
    "    if count != 0:\n",
    "        vec /= count\n",
    "    return vec"
   ]
  },
  {
   "cell_type": "code",
   "execution_count": 24,
   "id": "ac811778",
   "metadata": {},
   "outputs": [
    {
     "name": "stdout",
     "output_type": "stream",
     "text": [
      "shape for training set :  (11200, 400) \n",
      "shape for test set :  (2800, 400)\n"
     ]
    }
   ],
   "source": [
    "train_vecs_w2v = np.concatenate([buildWordVector(z, 400) for z in map(lambda x: x, X_train)])\n",
    "train_vecs_w2v = scale(train_vecs_w2v)\n",
    "\n",
    "test_vecs_w2v = np.concatenate([buildWordVector(z, 400) for z in map(lambda x: x, X_test)])\n",
    "test_vecs_w2v = scale(test_vecs_w2v)\n",
    "\n",
    "print ('shape for training set : ',train_vecs_w2v.shape,\n",
    "      '\\nshape for test set : ', test_vecs_w2v.shape)"
   ]
  },
  {
   "cell_type": "code",
   "execution_count": 25,
   "id": "607fdf30",
   "metadata": {},
   "outputs": [
    {
     "data": {
      "text/plain": [
       "(array([[ 0.41250008, -1.62759195,  0.77821758, ...,  1.5837894 ,\n",
       "          0.34137197, -0.32788489],\n",
       "        [-0.12631242, -1.72849389, -0.59317244, ...,  0.46450648,\n",
       "         -0.77218602, -0.24051288],\n",
       "        [ 0.23819589,  0.37222647,  1.2234177 , ...,  0.74665645,\n",
       "         -0.5022855 ,  0.33780658],\n",
       "        ...,\n",
       "        [-0.35946962,  1.37430867, -1.12566487, ...,  0.7027053 ,\n",
       "          0.56285702,  0.16331734],\n",
       "        [ 0.67822016,  0.79703807,  0.57112434, ..., -0.61786748,\n",
       "          0.0614133 ,  0.21896317],\n",
       "        [ 1.72136629,  2.02530346,  0.83799625, ..., -0.26304677,\n",
       "         -0.02345419, -0.30237666]]),\n",
       " array([[-0.56159464, -0.35922628,  0.04243642, ..., -0.31561344,\n",
       "         -0.54606761,  1.1265731 ],\n",
       "        [-2.02455719, -0.89762008, -2.74893847, ...,  1.48615621,\n",
       "         -1.36223458, -0.92727777],\n",
       "        [-0.05229802, -1.98073101, -0.12859012, ...,  1.24738285,\n",
       "          0.08911191, -0.96869533],\n",
       "        ...,\n",
       "        [-0.26330027,  0.1330464 ,  0.16650602, ...,  0.11581937,\n",
       "         -0.15009879, -0.912179  ],\n",
       "        [ 0.247492  ,  1.26426405, -0.3578452 , ..., -1.5152761 ,\n",
       "          1.38803508, -0.0254551 ],\n",
       "        [-0.95645763,  0.90718946, -1.22886292, ...,  2.03481086,\n",
       "          1.54063877, -0.04478912]]),\n",
       " array([1, 0, 0, ..., 1, 0, 0]),\n",
       " array([0, 1, 0, ..., 0, 0, 0]))"
      ]
     },
     "execution_count": 25,
     "metadata": {},
     "output_type": "execute_result"
    }
   ],
   "source": [
    "train_vecs_w2v, test_vecs_w2v, y_train, y_test"
   ]
  },
  {
   "cell_type": "markdown",
   "id": "c9b9c17d",
   "metadata": {},
   "source": [
    "#### BUILDING THE NEURAL MODEL"
   ]
  },
  {
   "cell_type": "code",
   "execution_count": 26,
   "id": "37c92354",
   "metadata": {},
   "outputs": [
    {
     "name": "stdout",
     "output_type": "stream",
     "text": [
      "Model: \"sequential\"\n",
      "_________________________________________________________________\n",
      " Layer (type)                Output Shape              Param #   \n",
      "=================================================================\n",
      " dense (Dense)               (None, 256)               102656    \n",
      "                                                                 \n",
      " leaky_re_lu (LeakyReLU)     (None, 256)               0         \n",
      "                                                                 \n",
      " dropout (Dropout)           (None, 256)               0         \n",
      "                                                                 \n",
      " dense_1 (Dense)             (None, 1)                 257       \n",
      "                                                                 \n",
      "=================================================================\n",
      "Total params: 102913 (402.00 KB)\n",
      "Trainable params: 102913 (402.00 KB)\n",
      "Non-trainable params: 0 (0.00 Byte)\n",
      "_________________________________________________________________\n"
     ]
    }
   ],
   "source": [
    "model = Sequential()\n",
    "\n",
    "model.add(Dense(256, input_dim=400))\n",
    "model.add(LeakyReLU(alpha=0.1))\n",
    "model.add(Dropout(0.65))\n",
    "model.add(Dense(1, activation='sigmoid'))\n",
    "optimizer = Adam(learning_rate=0.001)\n",
    "model.compile(optimizer=optimizer,\n",
    "              loss='binary_crossentropy',\n",
    "              metrics=['accuracy'])\n",
    "model.summary()"
   ]
  },
  {
   "cell_type": "code",
   "execution_count": 27,
   "id": "fb2bf71d",
   "metadata": {
    "scrolled": true
   },
   "outputs": [
    {
     "name": "stdout",
     "output_type": "stream",
     "text": [
      "Epoch 1/60\n",
      "280/280 [==============================] - 1s 2ms/step - loss: 0.6053 - accuracy: 0.7351 - val_loss: 0.5093 - val_accuracy: 0.7796\n",
      "Epoch 2/60\n",
      "280/280 [==============================] - 1s 2ms/step - loss: 0.4897 - accuracy: 0.7850 - val_loss: 0.4983 - val_accuracy: 0.7829\n",
      "Epoch 3/60\n",
      "280/280 [==============================] - 1s 2ms/step - loss: 0.4487 - accuracy: 0.8021 - val_loss: 0.4931 - val_accuracy: 0.7854\n",
      "Epoch 4/60\n",
      "280/280 [==============================] - 1s 2ms/step - loss: 0.4281 - accuracy: 0.8136 - val_loss: 0.4969 - val_accuracy: 0.7868\n",
      "Epoch 5/60\n",
      "280/280 [==============================] - 1s 2ms/step - loss: 0.4179 - accuracy: 0.8168 - val_loss: 0.4937 - val_accuracy: 0.7850\n",
      "Epoch 6/60\n",
      "280/280 [==============================] - 1s 2ms/step - loss: 0.4106 - accuracy: 0.8216 - val_loss: 0.4988 - val_accuracy: 0.7900\n",
      "Epoch 7/60\n",
      "280/280 [==============================] - 1s 2ms/step - loss: 0.4010 - accuracy: 0.8257 - val_loss: 0.5020 - val_accuracy: 0.7907\n",
      "Epoch 8/60\n",
      "280/280 [==============================] - 1s 2ms/step - loss: 0.3814 - accuracy: 0.8315 - val_loss: 0.5015 - val_accuracy: 0.7921\n",
      "Epoch 9/60\n",
      "280/280 [==============================] - 1s 2ms/step - loss: 0.3821 - accuracy: 0.8384 - val_loss: 0.5026 - val_accuracy: 0.7875\n",
      "Epoch 10/60\n",
      "280/280 [==============================] - 1s 2ms/step - loss: 0.3769 - accuracy: 0.8351 - val_loss: 0.5085 - val_accuracy: 0.7918\n",
      "Epoch 11/60\n",
      "280/280 [==============================] - 1s 2ms/step - loss: 0.3581 - accuracy: 0.8446 - val_loss: 0.5122 - val_accuracy: 0.7854\n",
      "Epoch 12/60\n",
      "280/280 [==============================] - 1s 2ms/step - loss: 0.3563 - accuracy: 0.8446 - val_loss: 0.5039 - val_accuracy: 0.7893\n",
      "Epoch 13/60\n",
      "280/280 [==============================] - 1s 2ms/step - loss: 0.3498 - accuracy: 0.8486 - val_loss: 0.5116 - val_accuracy: 0.7825\n",
      "Epoch 14/60\n",
      "280/280 [==============================] - 1s 2ms/step - loss: 0.3387 - accuracy: 0.8567 - val_loss: 0.5184 - val_accuracy: 0.7871\n",
      "Epoch 15/60\n",
      "280/280 [==============================] - 1s 2ms/step - loss: 0.3379 - accuracy: 0.8546 - val_loss: 0.5275 - val_accuracy: 0.7836\n",
      "Epoch 16/60\n",
      "280/280 [==============================] - 1s 2ms/step - loss: 0.3296 - accuracy: 0.8600 - val_loss: 0.5280 - val_accuracy: 0.7925\n",
      "Epoch 17/60\n",
      "280/280 [==============================] - 1s 2ms/step - loss: 0.3185 - accuracy: 0.8662 - val_loss: 0.5305 - val_accuracy: 0.7932\n",
      "Epoch 18/60\n",
      "280/280 [==============================] - 1s 2ms/step - loss: 0.3110 - accuracy: 0.8682 - val_loss: 0.5433 - val_accuracy: 0.7957\n",
      "Epoch 19/60\n",
      "280/280 [==============================] - 1s 2ms/step - loss: 0.2996 - accuracy: 0.8730 - val_loss: 0.5493 - val_accuracy: 0.7961\n",
      "Epoch 20/60\n",
      "280/280 [==============================] - 1s 2ms/step - loss: 0.2957 - accuracy: 0.8739 - val_loss: 0.5533 - val_accuracy: 0.7943\n",
      "Epoch 21/60\n",
      "280/280 [==============================] - 1s 2ms/step - loss: 0.2954 - accuracy: 0.8776 - val_loss: 0.5685 - val_accuracy: 0.7911\n",
      "Epoch 22/60\n",
      "280/280 [==============================] - 1s 2ms/step - loss: 0.2941 - accuracy: 0.8755 - val_loss: 0.5694 - val_accuracy: 0.7939\n",
      "Epoch 23/60\n",
      "280/280 [==============================] - 1s 2ms/step - loss: 0.2899 - accuracy: 0.8807 - val_loss: 0.5627 - val_accuracy: 0.7918\n",
      "Epoch 24/60\n",
      "280/280 [==============================] - 1s 2ms/step - loss: 0.2819 - accuracy: 0.8833 - val_loss: 0.5686 - val_accuracy: 0.7982\n",
      "Epoch 25/60\n",
      "280/280 [==============================] - 1s 2ms/step - loss: 0.2747 - accuracy: 0.8883 - val_loss: 0.5751 - val_accuracy: 0.7900\n",
      "Epoch 26/60\n",
      "280/280 [==============================] - 1s 2ms/step - loss: 0.2722 - accuracy: 0.8879 - val_loss: 0.5934 - val_accuracy: 0.7961\n",
      "Epoch 27/60\n",
      "280/280 [==============================] - 1s 2ms/step - loss: 0.2606 - accuracy: 0.8923 - val_loss: 0.5737 - val_accuracy: 0.7979\n",
      "Epoch 28/60\n",
      "280/280 [==============================] - 1s 2ms/step - loss: 0.2594 - accuracy: 0.8913 - val_loss: 0.5906 - val_accuracy: 0.7964\n",
      "Epoch 29/60\n",
      "280/280 [==============================] - 1s 2ms/step - loss: 0.2551 - accuracy: 0.8981 - val_loss: 0.5977 - val_accuracy: 0.7961\n",
      "Epoch 30/60\n",
      "280/280 [==============================] - 1s 2ms/step - loss: 0.2483 - accuracy: 0.8982 - val_loss: 0.6055 - val_accuracy: 0.7971\n",
      "Epoch 31/60\n",
      "280/280 [==============================] - 1s 2ms/step - loss: 0.2529 - accuracy: 0.8952 - val_loss: 0.6181 - val_accuracy: 0.7979\n",
      "Epoch 32/60\n",
      "280/280 [==============================] - 1s 2ms/step - loss: 0.2471 - accuracy: 0.8975 - val_loss: 0.6209 - val_accuracy: 0.7936\n",
      "Epoch 33/60\n",
      "280/280 [==============================] - 1s 2ms/step - loss: 0.2432 - accuracy: 0.9023 - val_loss: 0.6137 - val_accuracy: 0.7950\n",
      "Epoch 34/60\n",
      "280/280 [==============================] - 1s 2ms/step - loss: 0.2447 - accuracy: 0.8996 - val_loss: 0.6383 - val_accuracy: 0.7943\n",
      "Epoch 35/60\n",
      "280/280 [==============================] - 1s 2ms/step - loss: 0.2417 - accuracy: 0.9001 - val_loss: 0.6274 - val_accuracy: 0.7904\n",
      "Epoch 36/60\n",
      "280/280 [==============================] - 1s 2ms/step - loss: 0.2339 - accuracy: 0.9047 - val_loss: 0.6685 - val_accuracy: 0.7943\n",
      "Epoch 37/60\n",
      "280/280 [==============================] - 1s 2ms/step - loss: 0.2332 - accuracy: 0.9071 - val_loss: 0.6545 - val_accuracy: 0.7954\n",
      "Epoch 38/60\n",
      "280/280 [==============================] - 1s 2ms/step - loss: 0.2267 - accuracy: 0.9068 - val_loss: 0.6626 - val_accuracy: 0.7971\n",
      "Epoch 39/60\n",
      "280/280 [==============================] - 1s 2ms/step - loss: 0.2228 - accuracy: 0.9129 - val_loss: 0.6748 - val_accuracy: 0.7954\n",
      "Epoch 40/60\n",
      "280/280 [==============================] - 1s 2ms/step - loss: 0.2163 - accuracy: 0.9114 - val_loss: 0.6884 - val_accuracy: 0.7961\n",
      "Epoch 41/60\n",
      "280/280 [==============================] - 1s 2ms/step - loss: 0.2137 - accuracy: 0.9116 - val_loss: 0.6713 - val_accuracy: 0.7914\n",
      "Epoch 42/60\n",
      "280/280 [==============================] - 1s 2ms/step - loss: 0.2158 - accuracy: 0.9145 - val_loss: 0.6685 - val_accuracy: 0.7893\n",
      "Epoch 43/60\n",
      "280/280 [==============================] - 1s 2ms/step - loss: 0.2122 - accuracy: 0.9141 - val_loss: 0.6933 - val_accuracy: 0.7921\n",
      "Epoch 44/60\n",
      "280/280 [==============================] - 1s 2ms/step - loss: 0.2098 - accuracy: 0.9198 - val_loss: 0.6931 - val_accuracy: 0.7921\n",
      "Epoch 45/60\n",
      "280/280 [==============================] - 1s 2ms/step - loss: 0.2115 - accuracy: 0.9139 - val_loss: 0.6873 - val_accuracy: 0.7954\n",
      "Epoch 46/60\n",
      "280/280 [==============================] - 1s 2ms/step - loss: 0.2072 - accuracy: 0.9182 - val_loss: 0.6913 - val_accuracy: 0.7914\n",
      "Epoch 47/60\n",
      "280/280 [==============================] - 1s 2ms/step - loss: 0.2070 - accuracy: 0.9166 - val_loss: 0.6841 - val_accuracy: 0.7911\n",
      "Epoch 48/60\n",
      "280/280 [==============================] - 1s 2ms/step - loss: 0.2028 - accuracy: 0.9198 - val_loss: 0.7031 - val_accuracy: 0.7929\n",
      "Epoch 49/60\n",
      "280/280 [==============================] - 1s 2ms/step - loss: 0.2008 - accuracy: 0.9200 - val_loss: 0.6994 - val_accuracy: 0.7889\n",
      "Epoch 50/60\n",
      "280/280 [==============================] - 1s 2ms/step - loss: 0.2087 - accuracy: 0.9177 - val_loss: 0.7034 - val_accuracy: 0.7864\n",
      "Epoch 51/60\n",
      "280/280 [==============================] - 1s 2ms/step - loss: 0.1964 - accuracy: 0.9221 - val_loss: 0.7078 - val_accuracy: 0.7914\n",
      "Epoch 52/60\n",
      "280/280 [==============================] - 1s 2ms/step - loss: 0.2015 - accuracy: 0.9229 - val_loss: 0.7343 - val_accuracy: 0.7954\n",
      "Epoch 53/60\n",
      "280/280 [==============================] - 1s 2ms/step - loss: 0.1913 - accuracy: 0.9244 - val_loss: 0.7312 - val_accuracy: 0.7896\n",
      "Epoch 54/60\n",
      "280/280 [==============================] - 1s 2ms/step - loss: 0.1974 - accuracy: 0.9204 - val_loss: 0.7211 - val_accuracy: 0.7939\n",
      "Epoch 55/60\n",
      "280/280 [==============================] - 1s 2ms/step - loss: 0.1864 - accuracy: 0.9275 - val_loss: 0.7605 - val_accuracy: 0.7921\n",
      "Epoch 56/60\n",
      "280/280 [==============================] - 1s 2ms/step - loss: 0.1854 - accuracy: 0.9283 - val_loss: 0.7705 - val_accuracy: 0.7939\n",
      "Epoch 57/60\n",
      "280/280 [==============================] - 1s 2ms/step - loss: 0.1837 - accuracy: 0.9304 - val_loss: 0.7442 - val_accuracy: 0.7929\n",
      "Epoch 58/60\n"
     ]
    },
    {
     "name": "stdout",
     "output_type": "stream",
     "text": [
      "280/280 [==============================] - 1s 2ms/step - loss: 0.1869 - accuracy: 0.9278 - val_loss: 0.7422 - val_accuracy: 0.7950\n",
      "Epoch 59/60\n",
      "280/280 [==============================] - 1s 2ms/step - loss: 0.1793 - accuracy: 0.9299 - val_loss: 0.7588 - val_accuracy: 0.7939\n",
      "Epoch 60/60\n",
      "280/280 [==============================] - 1s 2ms/step - loss: 0.1869 - accuracy: 0.9261 - val_loss: 0.7541 - val_accuracy: 0.7939\n",
      "Training Accuracy: 0.9875\n",
      "Testing Accuracy:  0.7939\n"
     ]
    }
   ],
   "source": [
    "history = model.fit(train_vecs_w2v, y_train, epochs=60, batch_size=40,\n",
    "                   validation_data=(test_vecs_w2v,y_test))\n",
    "loss, accuracy = model.evaluate(train_vecs_w2v, y_train, verbose=False)\n",
    "print(\"Training Accuracy: {:.4f}\".format(accuracy))\n",
    "loss, accuracy = model.evaluate(test_vecs_w2v, y_test, verbose=False)\n",
    "print(\"Testing Accuracy:  {:.4f}\".format(accuracy))"
   ]
  },
  {
   "cell_type": "code",
   "execution_count": 28,
   "id": "05b0f30c",
   "metadata": {},
   "outputs": [
    {
     "data": {
      "image/png": "[encoded data removed]",
      "text/plain": [
       "<Figure size 1200x500 with 2 Axes>"
      ]
     },
     "metadata": {},
     "output_type": "display_data"
    }
   ],
   "source": [
    "def plot_history(history):\n",
    "    train_loss_values = history.history['loss']\n",
    "    val_loss_values = history.history['val_loss']\n",
    "    train_acc_values = history.history['accuracy']\n",
    "    val_acc_values = history.history['val_accuracy']\n",
    "    epochs = range(1, len(train_loss_values) + 1)\n",
    "\n",
    "    plt.figure(figsize=(12, 5))\n",
    "    \n",
    "    plt.subplot(1, 2, 2)\n",
    "    plt.plot(epochs, train_acc_values, 'b', label='Training accuracy')\n",
    "    plt.plot(epochs, val_acc_values, 'r', label='Validation accuracy')\n",
    "    plt.title('Training and validation accuracy')\n",
    "    plt.xlabel('Epochs')\n",
    "    plt.ylabel('Accuracy')\n",
    "    plt.legend()\n",
    "\n",
    "    plt.subplot(1, 2, 1)\n",
    "    plt.plot(epochs, train_loss_values, 'b', label='Training loss')\n",
    "    plt.plot(epochs, val_loss_values, 'r', label='Validation loss')\n",
    "    plt.title('Training and validation loss')\n",
    "    plt.xlabel('Epochs')\n",
    "    plt.ylabel('Loss')\n",
    "    plt.legend()\n",
    "\n",
    "    plt.show()\n",
    "\n",
    "plot_history(history)"
   ]
  },
  {
   "cell_type": "markdown",
   "id": "f72bf8a2",
   "metadata": {},
   "source": [
    "#### Overall Accuracy and F1-Score for Task A:"
   ]
  },
  {
   "cell_type": "code",
   "execution_count": 29,
   "id": "5c75dff7",
   "metadata": {},
   "outputs": [
    {
     "name": "stdout",
     "output_type": "stream",
     "text": [
      "88/88 [==============================] - 0s 863us/step\n",
      "Accuracy: 0.7939285714285714\n",
      "F1 Score: 0.770626370878434\n"
     ]
    }
   ],
   "source": [
    "# Predict classes for the test set\n",
    "y_pred_prob = model.predict(test_vecs_w2v)\n",
    "\n",
    "# Convert y_pred to 1D array\n",
    "y_pred = (y_pred_prob > 0.5).astype(int)\n",
    "\n",
    "# Calculate overall accuracy\n",
    "accuracy = accuracy_score(y_test, y_pred)\n",
    "\n",
    "# Calculate F1 score\n",
    "f1 = f1_score(y_test, y_pred, average='weighted')\n",
    "\n",
    "print(\"Accuracy:\", accuracy)\n",
    "print(\"F1 Score:\", f1)"
   ]
  },
  {
   "cell_type": "code",
   "execution_count": 30,
   "id": "15d5847c",
   "metadata": {},
   "outputs": [
    {
     "name": "stdout",
     "output_type": "stream",
     "text": [
      "              precision    recall  f1-score   support\n",
      "\n",
      "           0       0.81      0.94      0.87      2096\n",
      "           1       0.67      0.36      0.47       704\n",
      "\n",
      "    accuracy                           0.79      2800\n",
      "   macro avg       0.74      0.65      0.67      2800\n",
      "weighted avg       0.78      0.79      0.77      2800\n",
      "\n"
     ]
    }
   ],
   "source": [
    "# Generate classification report\n",
    "report = classification_report(y_test, y_pred)\n",
    "\n",
    "# Print the classification report\n",
    "print(report)"
   ]
  },
  {
   "cell_type": "code",
   "execution_count": 57,
   "id": "64e04c35",
   "metadata": {},
   "outputs": [
    {
     "data": {
      "image/png": "[encoded data removed]",
      "text/plain": [
       "<Figure size 1000x400 with 2 Axes>"
      ]
     },
     "metadata": {},
     "output_type": "display_data"
    }
   ],
   "source": [
    "# Sample classification report data\n",
    "report_data = {\n",
    "    \"precision\": [0.81, 0.67],\n",
    "    \"recall\": [0.94, 0.36],\n",
    "    \"f1-score\": [0.87, 0.47],\n",
    "    \"support\": [2096, 704]\n",
    "}\n",
    "\n",
    "# Convert the data into a DataFrame\n",
    "df_report = pd.DataFrame(report_data, index=[\"0\", \"1\"])\n",
    "\n",
    "# Plot the heatmap\n",
    "plt.figure(figsize=(10, 4))\n",
    "sns.heatmap(df_report, annot=True, cmap=\"YlGnBu\", fmt=\".2f\", linewidths=.5)\n",
    "plt.title('Classification Report')\n",
    "plt.xlabel('Metrics')\n",
    "plt.ylabel('Class')\n",
    "plt.show()"
   ]
  },
  {
   "cell_type": "markdown",
   "id": "628ce605",
   "metadata": {},
   "source": [
    "# TASK B SOLUTION"
   ]
  },
  {
   "cell_type": "code",
   "execution_count": 32,
   "id": "a5414363",
   "metadata": {},
   "outputs": [
    {
     "data": {
      "text/html": [
       "<div>\n",
       "<style scoped>\n",
       "    .dataframe tbody tr th:only-of-type {\n",
       "        vertical-align: middle;\n",
       "    }\n",
       "\n",
       "    .dataframe tbody tr th {\n",
       "        vertical-align: top;\n",
       "    }\n",
       "\n",
       "    .dataframe thead th {\n",
       "        text-align: right;\n",
       "    }\n",
       "</style>\n",
       "<table border=\"1\" class=\"dataframe\">\n",
       "  <thead>\n",
       "    <tr style=\"text-align: right;\">\n",
       "      <th></th>\n",
       "      <th>text</th>\n",
       "      <th>label_sexist</th>\n",
       "      <th>label_category</th>\n",
       "      <th>label_vector</th>\n",
       "    </tr>\n",
       "  </thead>\n",
       "  <tbody>\n",
       "    <tr>\n",
       "      <th>0</th>\n",
       "      <td>damn writing pretty chaotic</td>\n",
       "      <td>not sexist</td>\n",
       "      <td>none</td>\n",
       "      <td>none</td>\n",
       "    </tr>\n",
       "    <tr>\n",
       "      <th>1</th>\n",
       "      <td>yeah apparently bunch misogynistic virgin one ...</td>\n",
       "      <td>not sexist</td>\n",
       "      <td>none</td>\n",
       "      <td>none</td>\n",
       "    </tr>\n",
       "    <tr>\n",
       "      <th>2</th>\n",
       "      <td>fuck woman still mp</td>\n",
       "      <td>not sexist</td>\n",
       "      <td>none</td>\n",
       "      <td>none</td>\n",
       "    </tr>\n",
       "    <tr>\n",
       "      <th>3</th>\n",
       "      <td>understand know youre right time know isnt eno...</td>\n",
       "      <td>not sexist</td>\n",
       "      <td>none</td>\n",
       "      <td>none</td>\n",
       "    </tr>\n",
       "    <tr>\n",
       "      <th>4</th>\n",
       "      <td>surprized didnt stop rape woman</td>\n",
       "      <td>not sexist</td>\n",
       "      <td>none</td>\n",
       "      <td>none</td>\n",
       "    </tr>\n",
       "  </tbody>\n",
       "</table>\n",
       "</div>"
      ],
      "text/plain": [
       "                                                text label_sexist  \\\n",
       "0                        damn writing pretty chaotic   not sexist   \n",
       "1  yeah apparently bunch misogynistic virgin one ...   not sexist   \n",
       "2                                fuck woman still mp   not sexist   \n",
       "3  understand know youre right time know isnt eno...   not sexist   \n",
       "4                    surprized didnt stop rape woman   not sexist   \n",
       "\n",
       "  label_category label_vector  \n",
       "0           none         none  \n",
       "1           none         none  \n",
       "2           none         none  \n",
       "3           none         none  \n",
       "4           none         none  "
      ]
     },
     "execution_count": 32,
     "metadata": {},
     "output_type": "execute_result"
    }
   ],
   "source": [
    "df.head()"
   ]
  },
  {
   "cell_type": "code",
   "execution_count": 33,
   "id": "82fc3939",
   "metadata": {},
   "outputs": [
    {
     "data": {
      "text/plain": [
       "2. derogation                               1590\n",
       "3. animosity                                1165\n",
       "4. prejudiced discussions                    333\n",
       "1. threats, plans to harm and incitement     310\n",
       "Name: label_category, dtype: int64"
      ]
     },
     "execution_count": 33,
     "metadata": {},
     "output_type": "execute_result"
    }
   ],
   "source": [
    "df[df['label_sexist'] == 'sexist']['label_category'].value_counts()"
   ]
  },
  {
   "cell_type": "code",
   "execution_count": 34,
   "id": "14cb7d88",
   "metadata": {},
   "outputs": [
    {
     "data": {
      "text/plain": [
       "2. derogation                               1590\n",
       "3. animosity                                1165\n",
       "4. prejudiced discussions                    333\n",
       "1. threats, plans to harm and incitement     310\n",
       "Name: label_category, dtype: int64"
      ]
     },
     "execution_count": 34,
     "metadata": {},
     "output_type": "execute_result"
    }
   ],
   "source": [
    "#creating a new dataframe dfB for task B\n",
    "\n",
    "dfB = df[df['label_sexist'] == 'sexist'][['text', 'label_category']]\n",
    "dfB['label_category'].value_counts()"
   ]
  },
  {
   "cell_type": "code",
   "execution_count": 35,
   "id": "5b351e74",
   "metadata": {},
   "outputs": [
    {
     "data": {
      "text/plain": [
       "(3398, 2)"
      ]
     },
     "execution_count": 35,
     "metadata": {},
     "output_type": "execute_result"
    }
   ],
   "source": [
    "dfB.shape"
   ]
  },
  {
   "cell_type": "code",
   "execution_count": 36,
   "id": "c860ccbc",
   "metadata": {},
   "outputs": [
    {
     "data": {
      "text/html": [
       "<div>\n",
       "<style scoped>\n",
       "    .dataframe tbody tr th:only-of-type {\n",
       "        vertical-align: middle;\n",
       "    }\n",
       "\n",
       "    .dataframe tbody tr th {\n",
       "        vertical-align: top;\n",
       "    }\n",
       "\n",
       "    .dataframe thead th {\n",
       "        text-align: right;\n",
       "    }\n",
       "</style>\n",
       "<table border=\"1\" class=\"dataframe\">\n",
       "  <thead>\n",
       "    <tr style=\"text-align: right;\">\n",
       "      <th></th>\n",
       "      <th>text</th>\n",
       "      <th>label_category</th>\n",
       "    </tr>\n",
       "  </thead>\n",
       "  <tbody>\n",
       "    <tr>\n",
       "      <th>8</th>\n",
       "      <td>inside wallet cash bank card credit card debit...</td>\n",
       "      <td>2. derogation</td>\n",
       "    </tr>\n",
       "    <tr>\n",
       "      <th>11</th>\n",
       "      <td>get initial chance attractive woman flock see ...</td>\n",
       "      <td>2. derogation</td>\n",
       "    </tr>\n",
       "    <tr>\n",
       "      <th>17</th>\n",
       "      <td>ugly chick pussy pussy</td>\n",
       "      <td>2. derogation</td>\n",
       "    </tr>\n",
       "    <tr>\n",
       "      <th>18</th>\n",
       "      <td>fuck nine mm get arab fuck monkey</td>\n",
       "      <td>1. threats, plans to harm and incitement</td>\n",
       "    </tr>\n",
       "    <tr>\n",
       "      <th>19</th>\n",
       "      <td>talk shit idiot like nazi like bitch</td>\n",
       "      <td>3. animosity</td>\n",
       "    </tr>\n",
       "  </tbody>\n",
       "</table>\n",
       "</div>"
      ],
      "text/plain": [
       "                                                 text  \\\n",
       "8   inside wallet cash bank card credit card debit...   \n",
       "11  get initial chance attractive woman flock see ...   \n",
       "17                             ugly chick pussy pussy   \n",
       "18                  fuck nine mm get arab fuck monkey   \n",
       "19               talk shit idiot like nazi like bitch   \n",
       "\n",
       "                              label_category  \n",
       "8                              2. derogation  \n",
       "11                             2. derogation  \n",
       "17                             2. derogation  \n",
       "18  1. threats, plans to harm and incitement  \n",
       "19                              3. animosity  "
      ]
     },
     "execution_count": 36,
     "metadata": {},
     "output_type": "execute_result"
    }
   ],
   "source": [
    "dfB.head()"
   ]
  },
  {
   "cell_type": "markdown",
   "id": "0cedda26",
   "metadata": {},
   "source": [
    "#### ONE HOT ENCODING"
   ]
  },
  {
   "cell_type": "code",
   "execution_count": 37,
   "id": "4373988e",
   "metadata": {},
   "outputs": [],
   "source": [
    "y_encoded = pd.get_dummies(dfB['label_category'])\n",
    "dfB = pd.concat([dfB, y_encoded], axis=1)"
   ]
  },
  {
   "cell_type": "code",
   "execution_count": 38,
   "id": "b861c3ff",
   "metadata": {},
   "outputs": [
    {
     "data": {
      "text/html": [
       "<div>\n",
       "<style scoped>\n",
       "    .dataframe tbody tr th:only-of-type {\n",
       "        vertical-align: middle;\n",
       "    }\n",
       "\n",
       "    .dataframe tbody tr th {\n",
       "        vertical-align: top;\n",
       "    }\n",
       "\n",
       "    .dataframe thead th {\n",
       "        text-align: right;\n",
       "    }\n",
       "</style>\n",
       "<table border=\"1\" class=\"dataframe\">\n",
       "  <thead>\n",
       "    <tr style=\"text-align: right;\">\n",
       "      <th></th>\n",
       "      <th>1. threats, plans to harm and incitement</th>\n",
       "      <th>2. derogation</th>\n",
       "      <th>3. animosity</th>\n",
       "      <th>4. prejudiced discussions</th>\n",
       "    </tr>\n",
       "  </thead>\n",
       "  <tbody>\n",
       "    <tr>\n",
       "      <th>8</th>\n",
       "      <td>0</td>\n",
       "      <td>1</td>\n",
       "      <td>0</td>\n",
       "      <td>0</td>\n",
       "    </tr>\n",
       "    <tr>\n",
       "      <th>11</th>\n",
       "      <td>0</td>\n",
       "      <td>1</td>\n",
       "      <td>0</td>\n",
       "      <td>0</td>\n",
       "    </tr>\n",
       "    <tr>\n",
       "      <th>17</th>\n",
       "      <td>0</td>\n",
       "      <td>1</td>\n",
       "      <td>0</td>\n",
       "      <td>0</td>\n",
       "    </tr>\n",
       "    <tr>\n",
       "      <th>18</th>\n",
       "      <td>1</td>\n",
       "      <td>0</td>\n",
       "      <td>0</td>\n",
       "      <td>0</td>\n",
       "    </tr>\n",
       "    <tr>\n",
       "      <th>19</th>\n",
       "      <td>0</td>\n",
       "      <td>0</td>\n",
       "      <td>1</td>\n",
       "      <td>0</td>\n",
       "    </tr>\n",
       "    <tr>\n",
       "      <th>...</th>\n",
       "      <td>...</td>\n",
       "      <td>...</td>\n",
       "      <td>...</td>\n",
       "      <td>...</td>\n",
       "    </tr>\n",
       "    <tr>\n",
       "      <th>13977</th>\n",
       "      <td>0</td>\n",
       "      <td>1</td>\n",
       "      <td>0</td>\n",
       "      <td>0</td>\n",
       "    </tr>\n",
       "    <tr>\n",
       "      <th>13990</th>\n",
       "      <td>0</td>\n",
       "      <td>0</td>\n",
       "      <td>1</td>\n",
       "      <td>0</td>\n",
       "    </tr>\n",
       "    <tr>\n",
       "      <th>13993</th>\n",
       "      <td>0</td>\n",
       "      <td>0</td>\n",
       "      <td>0</td>\n",
       "      <td>1</td>\n",
       "    </tr>\n",
       "    <tr>\n",
       "      <th>13994</th>\n",
       "      <td>0</td>\n",
       "      <td>1</td>\n",
       "      <td>0</td>\n",
       "      <td>0</td>\n",
       "    </tr>\n",
       "    <tr>\n",
       "      <th>13995</th>\n",
       "      <td>0</td>\n",
       "      <td>1</td>\n",
       "      <td>0</td>\n",
       "      <td>0</td>\n",
       "    </tr>\n",
       "  </tbody>\n",
       "</table>\n",
       "<p>3398 rows × 4 columns</p>\n",
       "</div>"
      ],
      "text/plain": [
       "       1. threats, plans to harm and incitement  2. derogation  3. animosity  \\\n",
       "8                                             0              1             0   \n",
       "11                                            0              1             0   \n",
       "17                                            0              1             0   \n",
       "18                                            1              0             0   \n",
       "19                                            0              0             1   \n",
       "...                                         ...            ...           ...   \n",
       "13977                                         0              1             0   \n",
       "13990                                         0              0             1   \n",
       "13993                                         0              0             0   \n",
       "13994                                         0              1             0   \n",
       "13995                                         0              1             0   \n",
       "\n",
       "       4. prejudiced discussions  \n",
       "8                              0  \n",
       "11                             0  \n",
       "17                             0  \n",
       "18                             0  \n",
       "19                             0  \n",
       "...                          ...  \n",
       "13977                          0  \n",
       "13990                          0  \n",
       "13993                          1  \n",
       "13994                          0  \n",
       "13995                          0  \n",
       "\n",
       "[3398 rows x 4 columns]"
      ]
     },
     "execution_count": 38,
     "metadata": {},
     "output_type": "execute_result"
    }
   ],
   "source": [
    "y_encoded"
   ]
  },
  {
   "cell_type": "code",
   "execution_count": 39,
   "id": "abeb67af",
   "metadata": {},
   "outputs": [
    {
     "data": {
      "text/plain": [
       "numpy.ndarray"
      ]
     },
     "execution_count": 39,
     "metadata": {},
     "output_type": "execute_result"
    }
   ],
   "source": [
    "type(y_encoded.values)"
   ]
  },
  {
   "cell_type": "code",
   "execution_count": 40,
   "id": "fdad581a",
   "metadata": {},
   "outputs": [
    {
     "data": {
      "text/html": [
       "<div>\n",
       "<style scoped>\n",
       "    .dataframe tbody tr th:only-of-type {\n",
       "        vertical-align: middle;\n",
       "    }\n",
       "\n",
       "    .dataframe tbody tr th {\n",
       "        vertical-align: top;\n",
       "    }\n",
       "\n",
       "    .dataframe thead th {\n",
       "        text-align: right;\n",
       "    }\n",
       "</style>\n",
       "<table border=\"1\" class=\"dataframe\">\n",
       "  <thead>\n",
       "    <tr style=\"text-align: right;\">\n",
       "      <th></th>\n",
       "      <th>text</th>\n",
       "      <th>label_category</th>\n",
       "      <th>1. threats, plans to harm and incitement</th>\n",
       "      <th>2. derogation</th>\n",
       "      <th>3. animosity</th>\n",
       "      <th>4. prejudiced discussions</th>\n",
       "    </tr>\n",
       "  </thead>\n",
       "  <tbody>\n",
       "    <tr>\n",
       "      <th>8</th>\n",
       "      <td>inside wallet cash bank card credit card debit...</td>\n",
       "      <td>2. derogation</td>\n",
       "      <td>0</td>\n",
       "      <td>1</td>\n",
       "      <td>0</td>\n",
       "      <td>0</td>\n",
       "    </tr>\n",
       "    <tr>\n",
       "      <th>11</th>\n",
       "      <td>get initial chance attractive woman flock see ...</td>\n",
       "      <td>2. derogation</td>\n",
       "      <td>0</td>\n",
       "      <td>1</td>\n",
       "      <td>0</td>\n",
       "      <td>0</td>\n",
       "    </tr>\n",
       "    <tr>\n",
       "      <th>17</th>\n",
       "      <td>ugly chick pussy pussy</td>\n",
       "      <td>2. derogation</td>\n",
       "      <td>0</td>\n",
       "      <td>1</td>\n",
       "      <td>0</td>\n",
       "      <td>0</td>\n",
       "    </tr>\n",
       "    <tr>\n",
       "      <th>18</th>\n",
       "      <td>fuck nine mm get arab fuck monkey</td>\n",
       "      <td>1. threats, plans to harm and incitement</td>\n",
       "      <td>1</td>\n",
       "      <td>0</td>\n",
       "      <td>0</td>\n",
       "      <td>0</td>\n",
       "    </tr>\n",
       "    <tr>\n",
       "      <th>19</th>\n",
       "      <td>talk shit idiot like nazi like bitch</td>\n",
       "      <td>3. animosity</td>\n",
       "      <td>0</td>\n",
       "      <td>0</td>\n",
       "      <td>1</td>\n",
       "      <td>0</td>\n",
       "    </tr>\n",
       "  </tbody>\n",
       "</table>\n",
       "</div>"
      ],
      "text/plain": [
       "                                                 text  \\\n",
       "8   inside wallet cash bank card credit card debit...   \n",
       "11  get initial chance attractive woman flock see ...   \n",
       "17                             ugly chick pussy pussy   \n",
       "18                  fuck nine mm get arab fuck monkey   \n",
       "19               talk shit idiot like nazi like bitch   \n",
       "\n",
       "                              label_category  \\\n",
       "8                              2. derogation   \n",
       "11                             2. derogation   \n",
       "17                             2. derogation   \n",
       "18  1. threats, plans to harm and incitement   \n",
       "19                              3. animosity   \n",
       "\n",
       "    1. threats, plans to harm and incitement  2. derogation  3. animosity  \\\n",
       "8                                          0              1             0   \n",
       "11                                         0              1             0   \n",
       "17                                         0              1             0   \n",
       "18                                         1              0             0   \n",
       "19                                         0              0             1   \n",
       "\n",
       "    4. prejudiced discussions  \n",
       "8                           0  \n",
       "11                          0  \n",
       "17                          0  \n",
       "18                          0  \n",
       "19                          0  "
      ]
     },
     "execution_count": 40,
     "metadata": {},
     "output_type": "execute_result"
    }
   ],
   "source": [
    "dfB.head()"
   ]
  },
  {
   "cell_type": "code",
   "execution_count": 41,
   "id": "aeaa9a27",
   "metadata": {},
   "outputs": [
    {
     "data": {
      "text/html": [
       "<div>\n",
       "<style scoped>\n",
       "    .dataframe tbody tr th:only-of-type {\n",
       "        vertical-align: middle;\n",
       "    }\n",
       "\n",
       "    .dataframe tbody tr th {\n",
       "        vertical-align: top;\n",
       "    }\n",
       "\n",
       "    .dataframe thead th {\n",
       "        text-align: right;\n",
       "    }\n",
       "</style>\n",
       "<table border=\"1\" class=\"dataframe\">\n",
       "  <thead>\n",
       "    <tr style=\"text-align: right;\">\n",
       "      <th></th>\n",
       "      <th>text</th>\n",
       "      <th>label_category</th>\n",
       "      <th>1. threats, plans to harm and incitement</th>\n",
       "      <th>2. derogation</th>\n",
       "      <th>3. animosity</th>\n",
       "      <th>4. prejudiced discussions</th>\n",
       "      <th>tokenized_text</th>\n",
       "    </tr>\n",
       "  </thead>\n",
       "  <tbody>\n",
       "    <tr>\n",
       "      <th>8</th>\n",
       "      <td>inside wallet cash bank card credit card debit...</td>\n",
       "      <td>2. derogation</td>\n",
       "      <td>0</td>\n",
       "      <td>1</td>\n",
       "      <td>0</td>\n",
       "      <td>0</td>\n",
       "      <td>[inside, wallet, cash, bank, card, credit, car...</td>\n",
       "    </tr>\n",
       "    <tr>\n",
       "      <th>11</th>\n",
       "      <td>get initial chance attractive woman flock see ...</td>\n",
       "      <td>2. derogation</td>\n",
       "      <td>0</td>\n",
       "      <td>1</td>\n",
       "      <td>0</td>\n",
       "      <td>0</td>\n",
       "      <td>[get, initial, chance, attractive, woman, floc...</td>\n",
       "    </tr>\n",
       "    <tr>\n",
       "      <th>17</th>\n",
       "      <td>ugly chick pussy pussy</td>\n",
       "      <td>2. derogation</td>\n",
       "      <td>0</td>\n",
       "      <td>1</td>\n",
       "      <td>0</td>\n",
       "      <td>0</td>\n",
       "      <td>[ugly, chick, pussy, pussy]</td>\n",
       "    </tr>\n",
       "    <tr>\n",
       "      <th>18</th>\n",
       "      <td>fuck nine mm get arab fuck monkey</td>\n",
       "      <td>1. threats, plans to harm and incitement</td>\n",
       "      <td>1</td>\n",
       "      <td>0</td>\n",
       "      <td>0</td>\n",
       "      <td>0</td>\n",
       "      <td>[fuck, nine, mm, get, arab, fuck, monkey]</td>\n",
       "    </tr>\n",
       "    <tr>\n",
       "      <th>19</th>\n",
       "      <td>talk shit idiot like nazi like bitch</td>\n",
       "      <td>3. animosity</td>\n",
       "      <td>0</td>\n",
       "      <td>0</td>\n",
       "      <td>1</td>\n",
       "      <td>0</td>\n",
       "      <td>[talk, shit, idiot, like, nazi, like, bitch]</td>\n",
       "    </tr>\n",
       "  </tbody>\n",
       "</table>\n",
       "</div>"
      ],
      "text/plain": [
       "                                                 text  \\\n",
       "8   inside wallet cash bank card credit card debit...   \n",
       "11  get initial chance attractive woman flock see ...   \n",
       "17                             ugly chick pussy pussy   \n",
       "18                  fuck nine mm get arab fuck monkey   \n",
       "19               talk shit idiot like nazi like bitch   \n",
       "\n",
       "                              label_category  \\\n",
       "8                              2. derogation   \n",
       "11                             2. derogation   \n",
       "17                             2. derogation   \n",
       "18  1. threats, plans to harm and incitement   \n",
       "19                              3. animosity   \n",
       "\n",
       "    1. threats, plans to harm and incitement  2. derogation  3. animosity  \\\n",
       "8                                          0              1             0   \n",
       "11                                         0              1             0   \n",
       "17                                         0              1             0   \n",
       "18                                         1              0             0   \n",
       "19                                         0              0             1   \n",
       "\n",
       "    4. prejudiced discussions  \\\n",
       "8                           0   \n",
       "11                          0   \n",
       "17                          0   \n",
       "18                          0   \n",
       "19                          0   \n",
       "\n",
       "                                       tokenized_text  \n",
       "8   [inside, wallet, cash, bank, card, credit, car...  \n",
       "11  [get, initial, chance, attractive, woman, floc...  \n",
       "17                        [ugly, chick, pussy, pussy]  \n",
       "18          [fuck, nine, mm, get, arab, fuck, monkey]  \n",
       "19       [talk, shit, idiot, like, nazi, like, bitch]  "
      ]
     },
     "execution_count": 41,
     "metadata": {},
     "output_type": "execute_result"
    }
   ],
   "source": [
    "# Tokenize the 'text' column\n",
    "dfB['tokenized_text'] = dfB['text'].apply(word_tokenize)\n",
    "dfB.head()"
   ]
  },
  {
   "cell_type": "code",
   "execution_count": 42,
   "id": "764451e3",
   "metadata": {},
   "outputs": [
    {
     "data": {
      "text/plain": [
       "(3398, 7)"
      ]
     },
     "execution_count": 42,
     "metadata": {},
     "output_type": "execute_result"
    }
   ],
   "source": [
    "dfB.shape"
   ]
  },
  {
   "cell_type": "markdown",
   "id": "93ea7ddd",
   "metadata": {},
   "source": [
    "#### WORD2VEC"
   ]
  },
  {
   "cell_type": "code",
   "execution_count": 43,
   "id": "ca4a9411",
   "metadata": {},
   "outputs": [
    {
     "name": "stdout",
     "output_type": "stream",
     "text": [
      "Time to build vocab: 0.0 mins\n",
      "Time to train the model: 2.94 mins\n"
     ]
    }
   ],
   "source": [
    "#WORD2VEC()\n",
    "cores = multiprocessing.cpu_count() # Count the number of cores in a computer, important for a parameter of the model\n",
    "w2v_model = Word2Vec(min_count=20,\n",
    "                     window=2,\n",
    "                     vector_size=400,\n",
    "                     sample=6e-5, \n",
    "                     alpha=0.03, \n",
    "                     min_alpha=0.0007, \n",
    "                     negative=20,\n",
    "                     workers=cores-1)\n",
    "\n",
    "#BUILD_VOCAB()\n",
    "t = time()\n",
    "w2v_model.build_vocab(dfB[\"tokenized_text\"], progress_per=1000)\n",
    "print('Time to build vocab: {} mins'.format(round((time() - t) / 60, 2)))\n",
    "\n",
    "#TRAIN()\n",
    "w2v_model.train(dfB[\"tokenized_text\"], total_examples=w2v_model.corpus_count, epochs=10000, report_delay=1)\n",
    "print('Time to train the model: {} mins'.format(round((time() - t) / 60, 2)))\n"
   ]
  },
  {
   "cell_type": "markdown",
   "id": "4d1056c3",
   "metadata": {},
   "source": [
    "#### DATA SPLIT"
   ]
  },
  {
   "cell_type": "code",
   "execution_count": 44,
   "id": "01f808dc",
   "metadata": {},
   "outputs": [],
   "source": [
    "#First defining the X (input), and the y (output)\n",
    "y = y_encoded.values\n",
    "X = np.array(dfB[\"tokenized_text\"])\n",
    "\n",
    "#And here is the train_test_split\n",
    "X_train, X_test, y_train, y_test = train_test_split(X, y, test_size = 0.20, random_state = 2)"
   ]
  },
  {
   "cell_type": "code",
   "execution_count": 45,
   "id": "90fcc8f0",
   "metadata": {},
   "outputs": [
    {
     "data": {
      "text/plain": [
       "((2718,), (680,), (2718, 4), (680, 4))"
      ]
     },
     "execution_count": 45,
     "metadata": {},
     "output_type": "execute_result"
    }
   ],
   "source": [
    "X_train.shape, X_test.shape, y_train.shape, y_test.shape"
   ]
  },
  {
   "cell_type": "markdown",
   "id": "08e128a9",
   "metadata": {},
   "source": [
    "#### VECTORIZATION USING TFIDF"
   ]
  },
  {
   "cell_type": "code",
   "execution_count": 46,
   "id": "26d82737",
   "metadata": {},
   "outputs": [
    {
     "name": "stdout",
     "output_type": "stream",
     "text": [
      "vocab size : 622\n"
     ]
    }
   ],
   "source": [
    "vectorizer = TfidfVectorizer(analyzer=lambda x: x, min_df=10)\n",
    "matrix = vectorizer.fit_transform([x for x in X_train])\n",
    "tfidf = dict(zip(vectorizer.get_feature_names(), vectorizer.idf_))\n",
    "print ('vocab size :', len(tfidf))"
   ]
  },
  {
   "cell_type": "code",
   "execution_count": 47,
   "id": "a71f8d66",
   "metadata": {},
   "outputs": [],
   "source": [
    "def buildWordVector(tokens, size):\n",
    "    vec = np.zeros(size).reshape((1, size))\n",
    "    count = 0.\n",
    "    for word in tokens:\n",
    "        try:\n",
    "            vec += w2v_model.wv[word].reshape((1, size)) * tfidf[word]\n",
    "            count += 1.\n",
    "        except KeyError: # handling the case where the token is not\n",
    "                         # in the corpus. useful for testing.\n",
    "            continue\n",
    "    if count != 0:\n",
    "        vec /= count\n",
    "    return vec"
   ]
  },
  {
   "cell_type": "code",
   "execution_count": 48,
   "id": "a819f0d7",
   "metadata": {},
   "outputs": [
    {
     "name": "stdout",
     "output_type": "stream",
     "text": [
      "shape for training set :  (2718, 400) \n",
      "shape for test set :  (680, 400)\n"
     ]
    }
   ],
   "source": [
    "train_vecs_w2v = np.concatenate([buildWordVector(z, 400) for z in map(lambda x: x, X_train)])\n",
    "train_vecs_w2v = scale(train_vecs_w2v)\n",
    "\n",
    "test_vecs_w2v = np.concatenate([buildWordVector(z, 400) for z in map(lambda x: x, X_test)])\n",
    "test_vecs_w2v = scale(test_vecs_w2v)\n",
    "\n",
    "print ('shape for training set : ',train_vecs_w2v.shape,\n",
    "      '\\nshape for test set : ', test_vecs_w2v.shape)"
   ]
  },
  {
   "cell_type": "code",
   "execution_count": 49,
   "id": "fa19e30a",
   "metadata": {},
   "outputs": [
    {
     "data": {
      "text/plain": [
       "(array([[ 0.04631616,  1.15395253,  0.95059542, ...,  1.48497073,\n",
       "         -0.01341365, -0.76307893],\n",
       "        [-0.39245344, -0.27540031, -0.58394321, ...,  0.69750444,\n",
       "          0.85847825, -0.86259454],\n",
       "        [-0.09853987,  0.43069915, -0.62917947, ..., -1.24899899,\n",
       "         -0.65077839, -1.56850464],\n",
       "        ...,\n",
       "        [-0.41668288,  1.06511206, -2.30052729, ...,  0.5487524 ,\n",
       "         -0.44551306, -2.06808593],\n",
       "        [-0.31422788,  0.04158512, -1.00332975, ..., -0.50398523,\n",
       "         -1.3024071 , -1.83104213],\n",
       "        [-0.67795004,  1.43080355,  0.34478647, ..., -1.14744644,\n",
       "          2.44594466,  0.26660746]]),\n",
       " array([[-0.23249738,  0.14407921,  0.19375827, ...,  1.20538086,\n",
       "          1.6323735 , -0.97686754],\n",
       "        [ 1.1672928 ,  0.31233745, -0.19531694, ...,  0.45851164,\n",
       "          0.46894444, -0.75560003],\n",
       "        [-0.18836493, -0.12900385,  0.00356329, ..., -0.79077962,\n",
       "          0.77230886,  0.38982557],\n",
       "        ...,\n",
       "        [ 1.57946493, -2.11700022, -3.50148763, ..., -0.42801363,\n",
       "         -1.53561953,  0.56774848],\n",
       "        [-0.48224   ,  1.09728096,  1.65343205, ...,  0.13399041,\n",
       "          0.843199  ,  2.23734469],\n",
       "        [ 1.03554486,  0.52586891, -0.39971975, ...,  1.47336391,\n",
       "          0.52003397,  0.36843732]]),\n",
       " array([[0, 0, 0, 1],\n",
       "        [0, 1, 0, 0],\n",
       "        [0, 1, 0, 0],\n",
       "        ...,\n",
       "        [0, 1, 0, 0],\n",
       "        [0, 0, 0, 1],\n",
       "        [0, 1, 0, 0]], dtype=uint8),\n",
       " array([[0, 0, 0, 1],\n",
       "        [0, 0, 1, 0],\n",
       "        [0, 0, 1, 0],\n",
       "        ...,\n",
       "        [0, 1, 0, 0],\n",
       "        [0, 0, 1, 0],\n",
       "        [1, 0, 0, 0]], dtype=uint8))"
      ]
     },
     "execution_count": 49,
     "metadata": {},
     "output_type": "execute_result"
    }
   ],
   "source": [
    "train_vecs_w2v, test_vecs_w2v, y_train,  y_test"
   ]
  },
  {
   "cell_type": "markdown",
   "id": "fcbc6f03",
   "metadata": {},
   "source": [
    "#### BUILDING THE NEURAL MODEL"
   ]
  },
  {
   "cell_type": "code",
   "execution_count": 50,
   "id": "26554210",
   "metadata": {},
   "outputs": [
    {
     "name": "stdout",
     "output_type": "stream",
     "text": [
      "Model: \"sequential_1\"\n",
      "_________________________________________________________________\n",
      " Layer (type)                Output Shape              Param #   \n",
      "=================================================================\n",
      " dense_2 (Dense)             (None, 256)               102656    \n",
      "                                                                 \n",
      " leaky_re_lu_1 (LeakyReLU)   (None, 256)               0         \n",
      "                                                                 \n",
      " dropout_1 (Dropout)         (None, 256)               0         \n",
      "                                                                 \n",
      " dense_3 (Dense)             (None, 4)                 1028      \n",
      "                                                                 \n",
      "=================================================================\n",
      "Total params: 103684 (405.02 KB)\n",
      "Trainable params: 103684 (405.02 KB)\n",
      "Non-trainable params: 0 (0.00 Byte)\n",
      "_________________________________________________________________\n"
     ]
    }
   ],
   "source": [
    "model = Sequential()\n",
    "\n",
    "model.add(Dense(256,  input_dim=400))\n",
    "model.add(LeakyReLU(alpha=0.1))\n",
    "model.add(Dropout(0.65))\n",
    "model.add(Dense(4, activation='softmax'))\n",
    "optimizer = Adam(learning_rate=0.001)\n",
    "model.compile(optimizer=optimizer,\n",
    "              loss='categorical_crossentropy',\n",
    "              metrics=['accuracy'])\n",
    "model.summary()"
   ]
  },
  {
   "cell_type": "markdown",
   "id": "61d57fcc",
   "metadata": {},
   "source": [
    "#### MODEL TRAINING"
   ]
  },
  {
   "cell_type": "code",
   "execution_count": 51,
   "id": "b7375a5b",
   "metadata": {},
   "outputs": [
    {
     "name": "stdout",
     "output_type": "stream",
     "text": [
      "Epoch 1/60\n",
      "68/68 [==============================] - 1s 4ms/step - loss: 1.6846 - accuracy: 0.3889 - val_loss: 1.2686 - val_accuracy: 0.4824\n",
      "Epoch 2/60\n",
      "68/68 [==============================] - 0s 2ms/step - loss: 1.3592 - accuracy: 0.4581 - val_loss: 1.2623 - val_accuracy: 0.4735\n",
      "Epoch 3/60\n",
      "68/68 [==============================] - 0s 2ms/step - loss: 1.1430 - accuracy: 0.5346 - val_loss: 1.2421 - val_accuracy: 0.4412\n",
      "Epoch 4/60\n",
      "68/68 [==============================] - 0s 2ms/step - loss: 1.0841 - accuracy: 0.5430 - val_loss: 1.2531 - val_accuracy: 0.4353\n",
      "Epoch 5/60\n",
      "68/68 [==============================] - 0s 2ms/step - loss: 1.0138 - accuracy: 0.5578 - val_loss: 1.2383 - val_accuracy: 0.4706\n",
      "Epoch 6/60\n",
      "68/68 [==============================] - 0s 2ms/step - loss: 0.9870 - accuracy: 0.5747 - val_loss: 1.2521 - val_accuracy: 0.4838\n",
      "Epoch 7/60\n",
      "68/68 [==============================] - 0s 2ms/step - loss: 0.9360 - accuracy: 0.5957 - val_loss: 1.2484 - val_accuracy: 0.4691\n",
      "Epoch 8/60\n",
      "68/68 [==============================] - 0s 3ms/step - loss: 0.9158 - accuracy: 0.5935 - val_loss: 1.2460 - val_accuracy: 0.4471\n",
      "Epoch 9/60\n",
      "68/68 [==============================] - 0s 2ms/step - loss: 0.8998 - accuracy: 0.5927 - val_loss: 1.2709 - val_accuracy: 0.4353\n",
      "Epoch 10/60\n",
      "68/68 [==============================] - 0s 2ms/step - loss: 0.8694 - accuracy: 0.6118 - val_loss: 1.2671 - val_accuracy: 0.4662\n",
      "Epoch 11/60\n",
      "68/68 [==============================] - 0s 2ms/step - loss: 0.8577 - accuracy: 0.6203 - val_loss: 1.2835 - val_accuracy: 0.4588\n",
      "Epoch 12/60\n",
      "68/68 [==============================] - 0s 2ms/step - loss: 0.8427 - accuracy: 0.6221 - val_loss: 1.2805 - val_accuracy: 0.4588\n",
      "Epoch 13/60\n",
      "68/68 [==============================] - 0s 2ms/step - loss: 0.8023 - accuracy: 0.6531 - val_loss: 1.2771 - val_accuracy: 0.4691\n",
      "Epoch 14/60\n",
      "68/68 [==============================] - 0s 2ms/step - loss: 0.8013 - accuracy: 0.6549 - val_loss: 1.2960 - val_accuracy: 0.4441\n",
      "Epoch 15/60\n",
      "68/68 [==============================] - 0s 2ms/step - loss: 0.7913 - accuracy: 0.6600 - val_loss: 1.3061 - val_accuracy: 0.4471\n",
      "Epoch 16/60\n",
      "68/68 [==============================] - 0s 2ms/step - loss: 0.7543 - accuracy: 0.6674 - val_loss: 1.3228 - val_accuracy: 0.4338\n",
      "Epoch 17/60\n",
      "68/68 [==============================] - 0s 2ms/step - loss: 0.7584 - accuracy: 0.6681 - val_loss: 1.3411 - val_accuracy: 0.4574\n",
      "Epoch 18/60\n",
      "68/68 [==============================] - 0s 3ms/step - loss: 0.7558 - accuracy: 0.6740 - val_loss: 1.3509 - val_accuracy: 0.4574\n",
      "Epoch 19/60\n",
      "68/68 [==============================] - 0s 3ms/step - loss: 0.7331 - accuracy: 0.6806 - val_loss: 1.3504 - val_accuracy: 0.4544\n",
      "Epoch 20/60\n",
      "68/68 [==============================] - 0s 3ms/step - loss: 0.7432 - accuracy: 0.6762 - val_loss: 1.3713 - val_accuracy: 0.4500\n",
      "Epoch 21/60\n",
      "68/68 [==============================] - 0s 2ms/step - loss: 0.7283 - accuracy: 0.6898 - val_loss: 1.3695 - val_accuracy: 0.4603\n",
      "Epoch 22/60\n",
      "68/68 [==============================] - 0s 2ms/step - loss: 0.7136 - accuracy: 0.6946 - val_loss: 1.3978 - val_accuracy: 0.4691\n",
      "Epoch 23/60\n",
      "68/68 [==============================] - 0s 3ms/step - loss: 0.6867 - accuracy: 0.7005 - val_loss: 1.4078 - val_accuracy: 0.4559\n",
      "Epoch 24/60\n",
      "68/68 [==============================] - 0s 3ms/step - loss: 0.7005 - accuracy: 0.6939 - val_loss: 1.3991 - val_accuracy: 0.4456\n",
      "Epoch 25/60\n",
      "68/68 [==============================] - 0s 2ms/step - loss: 0.6835 - accuracy: 0.7060 - val_loss: 1.4142 - val_accuracy: 0.4603\n",
      "Epoch 26/60\n",
      "68/68 [==============================] - 0s 2ms/step - loss: 0.6688 - accuracy: 0.7219 - val_loss: 1.4297 - val_accuracy: 0.4809\n",
      "Epoch 27/60\n",
      "68/68 [==============================] - 0s 3ms/step - loss: 0.6625 - accuracy: 0.7171 - val_loss: 1.4672 - val_accuracy: 0.4691\n",
      "Epoch 28/60\n",
      "68/68 [==============================] - 0s 3ms/step - loss: 0.6480 - accuracy: 0.7296 - val_loss: 1.4601 - val_accuracy: 0.4588\n",
      "Epoch 29/60\n",
      "68/68 [==============================] - 0s 2ms/step - loss: 0.6399 - accuracy: 0.7325 - val_loss: 1.4977 - val_accuracy: 0.4588\n",
      "Epoch 30/60\n",
      "68/68 [==============================] - 0s 2ms/step - loss: 0.6447 - accuracy: 0.7292 - val_loss: 1.5091 - val_accuracy: 0.4515\n",
      "Epoch 31/60\n",
      "68/68 [==============================] - 0s 2ms/step - loss: 0.6411 - accuracy: 0.7325 - val_loss: 1.5240 - val_accuracy: 0.4618\n",
      "Epoch 32/60\n",
      "68/68 [==============================] - 0s 2ms/step - loss: 0.6133 - accuracy: 0.7425 - val_loss: 1.5359 - val_accuracy: 0.4544\n",
      "Epoch 33/60\n",
      "68/68 [==============================] - 0s 2ms/step - loss: 0.5893 - accuracy: 0.7469 - val_loss: 1.5697 - val_accuracy: 0.4515\n",
      "Epoch 34/60\n",
      "68/68 [==============================] - 0s 2ms/step - loss: 0.6028 - accuracy: 0.7539 - val_loss: 1.5597 - val_accuracy: 0.4574\n",
      "Epoch 35/60\n",
      "68/68 [==============================] - 0s 2ms/step - loss: 0.6164 - accuracy: 0.7406 - val_loss: 1.5568 - val_accuracy: 0.4691\n",
      "Epoch 36/60\n",
      "68/68 [==============================] - 0s 2ms/step - loss: 0.5970 - accuracy: 0.7524 - val_loss: 1.5627 - val_accuracy: 0.4662\n",
      "Epoch 37/60\n",
      "68/68 [==============================] - 0s 2ms/step - loss: 0.6033 - accuracy: 0.7388 - val_loss: 1.5907 - val_accuracy: 0.4559\n",
      "Epoch 38/60\n",
      "68/68 [==============================] - 0s 2ms/step - loss: 0.5778 - accuracy: 0.7653 - val_loss: 1.6093 - val_accuracy: 0.4574\n",
      "Epoch 39/60\n",
      "68/68 [==============================] - 0s 2ms/step - loss: 0.5763 - accuracy: 0.7557 - val_loss: 1.6151 - val_accuracy: 0.4426\n",
      "Epoch 40/60\n",
      "68/68 [==============================] - 0s 2ms/step - loss: 0.5535 - accuracy: 0.7568 - val_loss: 1.6085 - val_accuracy: 0.4632\n",
      "Epoch 41/60\n",
      "68/68 [==============================] - 0s 2ms/step - loss: 0.5700 - accuracy: 0.7553 - val_loss: 1.6046 - val_accuracy: 0.4765\n",
      "Epoch 42/60\n",
      "68/68 [==============================] - 0s 3ms/step - loss: 0.5516 - accuracy: 0.7726 - val_loss: 1.6437 - val_accuracy: 0.4779\n",
      "Epoch 43/60\n",
      "68/68 [==============================] - 0s 2ms/step - loss: 0.5354 - accuracy: 0.7785 - val_loss: 1.6662 - val_accuracy: 0.4632\n",
      "Epoch 44/60\n",
      "68/68 [==============================] - 0s 2ms/step - loss: 0.5309 - accuracy: 0.7833 - val_loss: 1.7060 - val_accuracy: 0.4662\n",
      "Epoch 45/60\n",
      "68/68 [==============================] - 0s 2ms/step - loss: 0.5297 - accuracy: 0.7848 - val_loss: 1.7076 - val_accuracy: 0.4559\n",
      "Epoch 46/60\n",
      "68/68 [==============================] - 0s 2ms/step - loss: 0.5178 - accuracy: 0.7914 - val_loss: 1.7152 - val_accuracy: 0.4471\n",
      "Epoch 47/60\n",
      "68/68 [==============================] - 0s 3ms/step - loss: 0.5314 - accuracy: 0.7763 - val_loss: 1.7578 - val_accuracy: 0.4559\n",
      "Epoch 48/60\n",
      "68/68 [==============================] - 0s 3ms/step - loss: 0.5165 - accuracy: 0.7925 - val_loss: 1.7535 - val_accuracy: 0.4574\n",
      "Epoch 49/60\n",
      "68/68 [==============================] - 0s 3ms/step - loss: 0.5099 - accuracy: 0.7862 - val_loss: 1.7702 - val_accuracy: 0.4456\n",
      "Epoch 50/60\n",
      "68/68 [==============================] - 0s 3ms/step - loss: 0.4902 - accuracy: 0.7984 - val_loss: 1.8075 - val_accuracy: 0.4662\n",
      "Epoch 51/60\n",
      "68/68 [==============================] - 0s 2ms/step - loss: 0.5060 - accuracy: 0.7888 - val_loss: 1.7760 - val_accuracy: 0.4515\n",
      "Epoch 52/60\n",
      "68/68 [==============================] - 0s 3ms/step - loss: 0.4961 - accuracy: 0.8021 - val_loss: 1.7988 - val_accuracy: 0.4544\n",
      "Epoch 53/60\n",
      "68/68 [==============================] - 0s 3ms/step - loss: 0.5023 - accuracy: 0.7914 - val_loss: 1.8313 - val_accuracy: 0.4529\n",
      "Epoch 54/60\n",
      "68/68 [==============================] - 0s 3ms/step - loss: 0.4819 - accuracy: 0.8002 - val_loss: 1.8625 - val_accuracy: 0.4574\n",
      "Epoch 55/60\n",
      "68/68 [==============================] - 0s 3ms/step - loss: 0.4755 - accuracy: 0.8006 - val_loss: 1.8684 - val_accuracy: 0.4618\n",
      "Epoch 56/60\n",
      "68/68 [==============================] - 0s 2ms/step - loss: 0.4932 - accuracy: 0.8105 - val_loss: 1.8530 - val_accuracy: 0.4529\n",
      "Epoch 57/60\n",
      "68/68 [==============================] - 0s 2ms/step - loss: 0.4716 - accuracy: 0.8087 - val_loss: 1.8767 - val_accuracy: 0.4559\n",
      "Epoch 58/60\n",
      "68/68 [==============================] - 0s 3ms/step - loss: 0.4725 - accuracy: 0.8098 - val_loss: 1.8667 - val_accuracy: 0.4397\n",
      "Epoch 59/60\n"
     ]
    },
    {
     "name": "stdout",
     "output_type": "stream",
     "text": [
      "68/68 [==============================] - 0s 3ms/step - loss: 0.4572 - accuracy: 0.8146 - val_loss: 1.8805 - val_accuracy: 0.4603\n",
      "Epoch 60/60\n",
      "68/68 [==============================] - 0s 3ms/step - loss: 0.4516 - accuracy: 0.8164 - val_loss: 1.9003 - val_accuracy: 0.4559\n",
      "Training Accuracy: 0.9485\n",
      "Testing Accuracy:  0.4559\n"
     ]
    }
   ],
   "source": [
    "history = model.fit(train_vecs_w2v, y_train, epochs=60, batch_size=40,\n",
    "                   validation_data=(test_vecs_w2v,y_test))\n",
    "loss, accuracy = model.evaluate(train_vecs_w2v, y_train, verbose=False)\n",
    "print(\"Training Accuracy: {:.4f}\".format(accuracy))\n",
    "loss, accuracy = model.evaluate(test_vecs_w2v, y_test, verbose=False)\n",
    "print(\"Testing Accuracy:  {:.4f}\".format(accuracy))"
   ]
  },
  {
   "cell_type": "code",
   "execution_count": 52,
   "id": "d5684774",
   "metadata": {},
   "outputs": [
    {
     "data": {
      "image/png": "[encoded data removed]",
      "text/plain": [
       "<Figure size 1200x500 with 2 Axes>"
      ]
     },
     "metadata": {},
     "output_type": "display_data"
    }
   ],
   "source": [
    "def plot_history(history):\n",
    "    train_loss_values = history.history['loss']\n",
    "    val_loss_values = history.history['val_loss']\n",
    "    train_acc_values = history.history['accuracy']\n",
    "    val_acc_values = history.history['val_accuracy']\n",
    "    epochs = range(1, len(train_loss_values) + 1)\n",
    "\n",
    "    plt.figure(figsize=(12, 5))\n",
    "    \n",
    "    plt.subplot(1, 2, 2)\n",
    "    plt.plot(epochs, train_acc_values, 'b', label='Training accuracy')\n",
    "    plt.plot(epochs, val_acc_values, 'r', label='Validation accuracy')\n",
    "    plt.title('Training and validation accuracy')\n",
    "    plt.xlabel('Epochs')\n",
    "    plt.ylabel('Accuracy')\n",
    "    plt.legend()\n",
    "\n",
    "    plt.subplot(1, 2, 1)\n",
    "    plt.plot(epochs, train_loss_values, 'b', label='Training loss')\n",
    "    plt.plot(epochs, val_loss_values, 'r', label='Validation loss')\n",
    "    plt.title('Training and validation loss')\n",
    "    plt.xlabel('Epochs')\n",
    "    plt.ylabel('Loss')\n",
    "    plt.legend()\n",
    "\n",
    "    plt.show()\n",
    "\n",
    "plot_history(history)"
   ]
  },
  {
   "cell_type": "markdown",
   "id": "6be84488",
   "metadata": {},
   "source": [
    "#### Overall Accuracy and F1-Score for Task B"
   ]
  },
  {
   "cell_type": "code",
   "execution_count": 53,
   "id": "6d43d506",
   "metadata": {},
   "outputs": [
    {
     "name": "stdout",
     "output_type": "stream",
     "text": [
      "22/22 [==============================] - 0s 935us/step\n",
      "Overall Accuracy: 0.43529411764705883\n",
      "F1 Score: 0.43970138618194354\n"
     ]
    }
   ],
   "source": [
    "# Predict classes for the test set\n",
    "y_pred_prob = model.predict(test_vecs_w2v)\n",
    "\n",
    "# Convert y_pred to 1D array\n",
    "y_pred = (y_pred_prob > 0.5).astype(int)\n",
    "\n",
    "# Calculate overall accuracy\n",
    "overall_accuracy = accuracy_score(y_test, y_pred)\n",
    "\n",
    "# Calculate F1 score\n",
    "f1 = f1_score(y_test, y_pred, average='weighted')\n",
    "\n",
    "print(\"ccuracy:\", accuracy)\n",
    "print(\"F1 Score:\", f1)\n"
   ]
  },
  {
   "cell_type": "code",
   "execution_count": 54,
   "id": "041f82aa",
   "metadata": {},
   "outputs": [
    {
     "name": "stdout",
     "output_type": "stream",
     "text": [
      "              precision    recall  f1-score   support\n",
      "\n",
      "           0       0.50      0.18      0.27        60\n",
      "           1       0.51      0.58      0.54       318\n",
      "           2       0.43      0.38      0.40       238\n",
      "           3       0.38      0.17      0.24        64\n",
      "\n",
      "   micro avg       0.48      0.44      0.45       680\n",
      "   macro avg       0.45      0.33      0.36       680\n",
      "weighted avg       0.47      0.44      0.44       680\n",
      " samples avg       0.44      0.44      0.44       680\n",
      "\n"
     ]
    }
   ],
   "source": [
    "# Generate classification report\n",
    "report = classification_report(y_test, y_pred)\n",
    "\n",
    "# Print the classification report\n",
    "print(report)"
   ]
  },
  {
   "cell_type": "code",
   "execution_count": 56,
   "id": "c6c3c53f",
   "metadata": {},
   "outputs": [
    {
     "data": {
      "image/png": "[encoded data removed]",
      "text/plain": [
       "<Figure size 1000x600 with 2 Axes>"
      ]
     },
     "metadata": {},
     "output_type": "display_data"
    }
   ],
   "source": [
    "# Sample classification report data\n",
    "report_data = {\n",
    "    \"precision\": [0.50, 0.51, 0.43, 0.38],\n",
    "    \"recall\": [0.18, 0.58, 0.38, 0.17],\n",
    "    \"f1-score\": [0.27, 0.54, 0.40, 0.24],\n",
    "    \"support\": [60, 318, 238, 64]\n",
    "}\n",
    "\n",
    "# Convert the data into a DataFrame\n",
    "df_report = pd.DataFrame(report_data, index=[\"0\", \"1\", \"2\", \"3\"])\n",
    "\n",
    "# Plot the heatmap\n",
    "plt.figure(figsize=(10, 6))\n",
    "sns.heatmap(df_report, annot=True, cmap=\"YlGnBu\", fmt=\".2f\", linewidths=.5)\n",
    "plt.title('Classification Report')\n",
    "plt.xlabel('Metrics')\n",
    "plt.ylabel('Class')\n",
    "plt.show()"
   ]
  },
  {
   "cell_type": "markdown",
   "id": "ea88a50a",
   "metadata": {},
   "source": [
    "   # Project Ends Here"
   ]
  }
 ],
 "metadata": {
  "kernelspec": {
   "display_name": "Python 3 (ipykernel)",
   "language": "python",
   "name": "python3"
  },
  "language_info": {
   "codemirror_mode": {
    "name": "ipython",
    "version": 3
   },
   "file_extension": ".py",
   "mimetype": "text/x-python",
   "name": "python",
   "nbconvert_exporter": "python",
   "pygments_lexer": "ipython3",
   "version": "3.9.13"
  }
 },
 "nbformat": 4,
 "nbformat_minor": 5
}
